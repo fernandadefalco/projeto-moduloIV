{
 "cells": [
  {
   "cell_type": "markdown",
   "metadata": {},
   "source": [
    "### ☕ Coffee Quality database from CQI ☕\n",
    "\n",
    "These data contain reviews of 1312 arabica and 28 robusta coffee beans from the Coffee Quality Institute's trained reviewers.\n",
    "https://www.kaggle.com/datasets/volpatto/coffee-quality-database-from-cqi\n"
   ]
  },
  {
   "cell_type": "markdown",
   "metadata": {},
   "source": [
    "_______\n",
    "Importando bibliotecas\n",
    "_____"
   ]
  },
  {
   "cell_type": "code",
   "execution_count": 204,
   "metadata": {},
   "outputs": [],
   "source": [
    "import pandas as pd\n",
    "import numpy as np\n",
    "import matplotlib.pyplot as plt\n",
    "import seaborn as sns\n",
    "import plotly.express as px\n",
    "import warnings\n",
    "warnings.filterwarnings(\"ignore\")\n",
    "from matplotlib.ticker import PercentFormatter"
   ]
  },
  {
   "cell_type": "markdown",
   "metadata": {},
   "source": [
    "_______\n",
    "Definindo funções a serem utilizadas\n",
    "_____"
   ]
  },
  {
   "cell_type": "code",
   "execution_count": 205,
   "metadata": {},
   "outputs": [],
   "source": [
    "def outliers(dataframe, column):\n",
    "    Q1 = dataframe[column].quantile(0.25)\n",
    "    Q3 = dataframe[column].quantile(0.75)\n",
    "    IQR = Q3 - Q1\n",
    "    lower_boundary = Q1 - 1.5 * IQR\n",
    "    upper_boundary = Q3 + 1.5 * IQR\n",
    "    df_new = dataframe.loc[(dataframe[column] >= lower_boundary) & (dataframe[column] <= upper_boundary)]\n",
    "    return df_new"
   ]
  },
  {
   "cell_type": "markdown",
   "metadata": {},
   "source": [
    "_______\n",
    "Importando o dataset\n",
    "___"
   ]
  },
  {
   "cell_type": "code",
   "execution_count": 206,
   "metadata": {},
   "outputs": [
    {
     "data": {
      "text/plain": [
       "(1339, 44)"
      ]
     },
     "execution_count": 206,
     "metadata": {},
     "output_type": "execute_result"
    }
   ],
   "source": [
    "df_coffee = pd.read_csv('merged_data_cleaned.csv')\n",
    "df_coffee.shape"
   ]
  },
  {
   "cell_type": "code",
   "execution_count": 207,
   "metadata": {},
   "outputs": [
    {
     "data": {
      "text/html": [
       "<div>\n",
       "<style scoped>\n",
       "    .dataframe tbody tr th:only-of-type {\n",
       "        vertical-align: middle;\n",
       "    }\n",
       "\n",
       "    .dataframe tbody tr th {\n",
       "        vertical-align: top;\n",
       "    }\n",
       "\n",
       "    .dataframe thead th {\n",
       "        text-align: right;\n",
       "    }\n",
       "</style>\n",
       "<table border=\"1\" class=\"dataframe\">\n",
       "  <thead>\n",
       "    <tr style=\"text-align: right;\">\n",
       "      <th></th>\n",
       "      <th>Unnamed: 0</th>\n",
       "      <th>Species</th>\n",
       "      <th>Owner</th>\n",
       "      <th>Country.of.Origin</th>\n",
       "      <th>Farm.Name</th>\n",
       "      <th>Lot.Number</th>\n",
       "      <th>Mill</th>\n",
       "      <th>ICO.Number</th>\n",
       "      <th>Company</th>\n",
       "      <th>Altitude</th>\n",
       "      <th>...</th>\n",
       "      <th>Color</th>\n",
       "      <th>Category.Two.Defects</th>\n",
       "      <th>Expiration</th>\n",
       "      <th>Certification.Body</th>\n",
       "      <th>Certification.Address</th>\n",
       "      <th>Certification.Contact</th>\n",
       "      <th>unit_of_measurement</th>\n",
       "      <th>altitude_low_meters</th>\n",
       "      <th>altitude_high_meters</th>\n",
       "      <th>altitude_mean_meters</th>\n",
       "    </tr>\n",
       "  </thead>\n",
       "  <tbody>\n",
       "    <tr>\n",
       "      <th>0</th>\n",
       "      <td>0</td>\n",
       "      <td>Arabica</td>\n",
       "      <td>metad plc</td>\n",
       "      <td>Ethiopia</td>\n",
       "      <td>metad plc</td>\n",
       "      <td>NaN</td>\n",
       "      <td>metad plc</td>\n",
       "      <td>2014/2015</td>\n",
       "      <td>metad agricultural developmet plc</td>\n",
       "      <td>1950-2200</td>\n",
       "      <td>...</td>\n",
       "      <td>Green</td>\n",
       "      <td>0</td>\n",
       "      <td>April 3rd, 2016</td>\n",
       "      <td>METAD Agricultural Development plc</td>\n",
       "      <td>309fcf77415a3661ae83e027f7e5f05dad786e44</td>\n",
       "      <td>19fef5a731de2db57d16da10287413f5f99bc2dd</td>\n",
       "      <td>m</td>\n",
       "      <td>1950.0</td>\n",
       "      <td>2200.0</td>\n",
       "      <td>2075.0</td>\n",
       "    </tr>\n",
       "    <tr>\n",
       "      <th>1</th>\n",
       "      <td>1</td>\n",
       "      <td>Arabica</td>\n",
       "      <td>metad plc</td>\n",
       "      <td>Ethiopia</td>\n",
       "      <td>metad plc</td>\n",
       "      <td>NaN</td>\n",
       "      <td>metad plc</td>\n",
       "      <td>2014/2015</td>\n",
       "      <td>metad agricultural developmet plc</td>\n",
       "      <td>1950-2200</td>\n",
       "      <td>...</td>\n",
       "      <td>Green</td>\n",
       "      <td>1</td>\n",
       "      <td>April 3rd, 2016</td>\n",
       "      <td>METAD Agricultural Development plc</td>\n",
       "      <td>309fcf77415a3661ae83e027f7e5f05dad786e44</td>\n",
       "      <td>19fef5a731de2db57d16da10287413f5f99bc2dd</td>\n",
       "      <td>m</td>\n",
       "      <td>1950.0</td>\n",
       "      <td>2200.0</td>\n",
       "      <td>2075.0</td>\n",
       "    </tr>\n",
       "    <tr>\n",
       "      <th>2</th>\n",
       "      <td>2</td>\n",
       "      <td>Arabica</td>\n",
       "      <td>grounds for health admin</td>\n",
       "      <td>Guatemala</td>\n",
       "      <td>san marcos barrancas \"san cristobal cuch</td>\n",
       "      <td>NaN</td>\n",
       "      <td>NaN</td>\n",
       "      <td>NaN</td>\n",
       "      <td>NaN</td>\n",
       "      <td>1600 - 1800 m</td>\n",
       "      <td>...</td>\n",
       "      <td>NaN</td>\n",
       "      <td>0</td>\n",
       "      <td>May 31st, 2011</td>\n",
       "      <td>Specialty Coffee Association</td>\n",
       "      <td>36d0d00a3724338ba7937c52a378d085f2172daa</td>\n",
       "      <td>0878a7d4b9d35ddbf0fe2ce69a2062cceb45a660</td>\n",
       "      <td>m</td>\n",
       "      <td>1600.0</td>\n",
       "      <td>1800.0</td>\n",
       "      <td>1700.0</td>\n",
       "    </tr>\n",
       "  </tbody>\n",
       "</table>\n",
       "<p>3 rows × 44 columns</p>\n",
       "</div>"
      ],
      "text/plain": [
       "   Unnamed: 0  Species                     Owner Country.of.Origin  \\\n",
       "0           0  Arabica                 metad plc          Ethiopia   \n",
       "1           1  Arabica                 metad plc          Ethiopia   \n",
       "2           2  Arabica  grounds for health admin         Guatemala   \n",
       "\n",
       "                                  Farm.Name Lot.Number       Mill ICO.Number  \\\n",
       "0                                 metad plc        NaN  metad plc  2014/2015   \n",
       "1                                 metad plc        NaN  metad plc  2014/2015   \n",
       "2  san marcos barrancas \"san cristobal cuch        NaN        NaN        NaN   \n",
       "\n",
       "                             Company       Altitude  ...  Color  \\\n",
       "0  metad agricultural developmet plc      1950-2200  ...  Green   \n",
       "1  metad agricultural developmet plc      1950-2200  ...  Green   \n",
       "2                                NaN  1600 - 1800 m  ...    NaN   \n",
       "\n",
       "  Category.Two.Defects       Expiration                  Certification.Body  \\\n",
       "0                    0  April 3rd, 2016  METAD Agricultural Development plc   \n",
       "1                    1  April 3rd, 2016  METAD Agricultural Development plc   \n",
       "2                    0   May 31st, 2011        Specialty Coffee Association   \n",
       "\n",
       "                      Certification.Address  \\\n",
       "0  309fcf77415a3661ae83e027f7e5f05dad786e44   \n",
       "1  309fcf77415a3661ae83e027f7e5f05dad786e44   \n",
       "2  36d0d00a3724338ba7937c52a378d085f2172daa   \n",
       "\n",
       "                      Certification.Contact unit_of_measurement  \\\n",
       "0  19fef5a731de2db57d16da10287413f5f99bc2dd                   m   \n",
       "1  19fef5a731de2db57d16da10287413f5f99bc2dd                   m   \n",
       "2  0878a7d4b9d35ddbf0fe2ce69a2062cceb45a660                   m   \n",
       "\n",
       "  altitude_low_meters altitude_high_meters altitude_mean_meters  \n",
       "0              1950.0               2200.0               2075.0  \n",
       "1              1950.0               2200.0               2075.0  \n",
       "2              1600.0               1800.0               1700.0  \n",
       "\n",
       "[3 rows x 44 columns]"
      ]
     },
     "execution_count": 207,
     "metadata": {},
     "output_type": "execute_result"
    }
   ],
   "source": [
    "df_coffee.head(3)"
   ]
  },
  {
   "cell_type": "code",
   "execution_count": 208,
   "metadata": {},
   "outputs": [
    {
     "data": {
      "text/plain": [
       "Index(['Unnamed: 0', 'Species', 'Owner', 'Country.of.Origin', 'Farm.Name',\n",
       "       'Lot.Number', 'Mill', 'ICO.Number', 'Company', 'Altitude', 'Region',\n",
       "       'Producer', 'Number.of.Bags', 'Bag.Weight', 'In.Country.Partner',\n",
       "       'Harvest.Year', 'Grading.Date', 'Owner.1', 'Variety',\n",
       "       'Processing.Method', 'Aroma', 'Flavor', 'Aftertaste', 'Acidity', 'Body',\n",
       "       'Balance', 'Uniformity', 'Clean.Cup', 'Sweetness', 'Cupper.Points',\n",
       "       'Total.Cup.Points', 'Moisture', 'Category.One.Defects', 'Quakers',\n",
       "       'Color', 'Category.Two.Defects', 'Expiration', 'Certification.Body',\n",
       "       'Certification.Address', 'Certification.Contact', 'unit_of_measurement',\n",
       "       'altitude_low_meters', 'altitude_high_meters', 'altitude_mean_meters'],\n",
       "      dtype='object')"
      ]
     },
     "execution_count": 208,
     "metadata": {},
     "output_type": "execute_result"
    }
   ],
   "source": [
    "df_coffee.columns"
   ]
  },
  {
   "cell_type": "code",
   "execution_count": 209,
   "metadata": {},
   "outputs": [],
   "source": [
    "cols = [0,2,4,5,6,7,11,37,38,39]\n",
    "\n",
    "df_coffee.drop(df_coffee.columns[cols], axis = 1, inplace = True)"
   ]
  },
  {
   "cell_type": "code",
   "execution_count": 210,
   "metadata": {},
   "outputs": [
    {
     "name": "stdout",
     "output_type": "stream",
     "text": [
      "<class 'pandas.core.frame.DataFrame'>\n",
      "RangeIndex: 1339 entries, 0 to 1338\n",
      "Data columns (total 34 columns):\n",
      " #   Column                Non-Null Count  Dtype  \n",
      "---  ------                --------------  -----  \n",
      " 0   Species               1339 non-null   object \n",
      " 1   Country.of.Origin     1338 non-null   object \n",
      " 2   Company               1130 non-null   object \n",
      " 3   Altitude              1113 non-null   object \n",
      " 4   Region                1280 non-null   object \n",
      " 5   Number.of.Bags        1339 non-null   int64  \n",
      " 6   Bag.Weight            1339 non-null   object \n",
      " 7   In.Country.Partner    1339 non-null   object \n",
      " 8   Harvest.Year          1292 non-null   object \n",
      " 9   Grading.Date          1339 non-null   object \n",
      " 10  Owner.1               1332 non-null   object \n",
      " 11  Variety               1113 non-null   object \n",
      " 12  Processing.Method     1169 non-null   object \n",
      " 13  Aroma                 1339 non-null   float64\n",
      " 14  Flavor                1339 non-null   float64\n",
      " 15  Aftertaste            1339 non-null   float64\n",
      " 16  Acidity               1339 non-null   float64\n",
      " 17  Body                  1339 non-null   float64\n",
      " 18  Balance               1339 non-null   float64\n",
      " 19  Uniformity            1339 non-null   float64\n",
      " 20  Clean.Cup             1339 non-null   float64\n",
      " 21  Sweetness             1339 non-null   float64\n",
      " 22  Cupper.Points         1339 non-null   float64\n",
      " 23  Total.Cup.Points      1339 non-null   float64\n",
      " 24  Moisture              1339 non-null   float64\n",
      " 25  Category.One.Defects  1339 non-null   int64  \n",
      " 26  Quakers               1338 non-null   float64\n",
      " 27  Color                 1121 non-null   object \n",
      " 28  Category.Two.Defects  1339 non-null   int64  \n",
      " 29  Expiration            1339 non-null   object \n",
      " 30  unit_of_measurement   1339 non-null   object \n",
      " 31  altitude_low_meters   1109 non-null   float64\n",
      " 32  altitude_high_meters  1109 non-null   float64\n",
      " 33  altitude_mean_meters  1109 non-null   float64\n",
      "dtypes: float64(16), int64(3), object(15)\n",
      "memory usage: 355.8+ KB\n"
     ]
    }
   ],
   "source": [
    "df_coffee.info()"
   ]
  },
  {
   "cell_type": "code",
   "execution_count": 211,
   "metadata": {},
   "outputs": [],
   "source": [
    "#Transformando as regiões NaN em 'Desconhecida'\n",
    "df_coffee['Region'][df_coffee['Region'].isna()] = 'Desconhecida'"
   ]
  },
  {
   "cell_type": "code",
   "execution_count": 212,
   "metadata": {},
   "outputs": [],
   "source": [
    "#Dropando a linha em que o país era NaN e a linha em que as medidas de qualidade estavam nulas\n",
    "df_coffee[df_coffee['Country.of.Origin'].isna()]\n",
    "df_coffee.drop([1197, 1310], inplace = True)"
   ]
  },
  {
   "cell_type": "code",
   "execution_count": 213,
   "metadata": {},
   "outputs": [
    {
     "data": {
      "text/html": [
       "<div>\n",
       "<style scoped>\n",
       "    .dataframe tbody tr th:only-of-type {\n",
       "        vertical-align: middle;\n",
       "    }\n",
       "\n",
       "    .dataframe tbody tr th {\n",
       "        vertical-align: top;\n",
       "    }\n",
       "\n",
       "    .dataframe thead th {\n",
       "        text-align: right;\n",
       "    }\n",
       "</style>\n",
       "<table border=\"1\" class=\"dataframe\">\n",
       "  <thead>\n",
       "    <tr style=\"text-align: right;\">\n",
       "      <th></th>\n",
       "      <th>Number.of.Bags</th>\n",
       "      <th>Aroma</th>\n",
       "      <th>Flavor</th>\n",
       "      <th>Aftertaste</th>\n",
       "      <th>Acidity</th>\n",
       "      <th>Body</th>\n",
       "      <th>Balance</th>\n",
       "      <th>Uniformity</th>\n",
       "      <th>Clean.Cup</th>\n",
       "      <th>Sweetness</th>\n",
       "      <th>Cupper.Points</th>\n",
       "      <th>Total.Cup.Points</th>\n",
       "      <th>Moisture</th>\n",
       "      <th>Category.One.Defects</th>\n",
       "      <th>Quakers</th>\n",
       "      <th>Category.Two.Defects</th>\n",
       "      <th>altitude_low_meters</th>\n",
       "      <th>altitude_high_meters</th>\n",
       "      <th>altitude_mean_meters</th>\n",
       "    </tr>\n",
       "  </thead>\n",
       "  <tbody>\n",
       "    <tr>\n",
       "      <th>count</th>\n",
       "      <td>1337.000</td>\n",
       "      <td>1337.000</td>\n",
       "      <td>1337.000</td>\n",
       "      <td>1337.000</td>\n",
       "      <td>1337.000</td>\n",
       "      <td>1337.000</td>\n",
       "      <td>1337.000</td>\n",
       "      <td>1337.000</td>\n",
       "      <td>1337.000</td>\n",
       "      <td>1337.000</td>\n",
       "      <td>1337.000</td>\n",
       "      <td>1337.000</td>\n",
       "      <td>1337.000</td>\n",
       "      <td>1337.000</td>\n",
       "      <td>1336.000</td>\n",
       "      <td>1337.000</td>\n",
       "      <td>1108.000</td>\n",
       "      <td>1108.000</td>\n",
       "      <td>1108.000</td>\n",
       "    </tr>\n",
       "    <tr>\n",
       "      <th>mean</th>\n",
       "      <td>154.096</td>\n",
       "      <td>7.573</td>\n",
       "      <td>7.527</td>\n",
       "      <td>7.407</td>\n",
       "      <td>7.542</td>\n",
       "      <td>7.523</td>\n",
       "      <td>7.524</td>\n",
       "      <td>9.842</td>\n",
       "      <td>9.842</td>\n",
       "      <td>9.864</td>\n",
       "      <td>7.509</td>\n",
       "      <td>82.154</td>\n",
       "      <td>0.088</td>\n",
       "      <td>0.480</td>\n",
       "      <td>0.174</td>\n",
       "      <td>3.558</td>\n",
       "      <td>1751.030</td>\n",
       "      <td>1799.708</td>\n",
       "      <td>1775.369</td>\n",
       "    </tr>\n",
       "    <tr>\n",
       "      <th>std</th>\n",
       "      <td>130.042</td>\n",
       "      <td>0.315</td>\n",
       "      <td>0.341</td>\n",
       "      <td>0.349</td>\n",
       "      <td>0.319</td>\n",
       "      <td>0.308</td>\n",
       "      <td>0.354</td>\n",
       "      <td>0.485</td>\n",
       "      <td>0.716</td>\n",
       "      <td>0.554</td>\n",
       "      <td>0.427</td>\n",
       "      <td>2.687</td>\n",
       "      <td>0.048</td>\n",
       "      <td>2.552</td>\n",
       "      <td>0.833</td>\n",
       "      <td>5.316</td>\n",
       "      <td>8673.349</td>\n",
       "      <td>8672.712</td>\n",
       "      <td>8672.533</td>\n",
       "    </tr>\n",
       "    <tr>\n",
       "      <th>min</th>\n",
       "      <td>0.000</td>\n",
       "      <td>5.080</td>\n",
       "      <td>6.080</td>\n",
       "      <td>6.170</td>\n",
       "      <td>5.250</td>\n",
       "      <td>5.080</td>\n",
       "      <td>5.250</td>\n",
       "      <td>6.000</td>\n",
       "      <td>0.000</td>\n",
       "      <td>1.330</td>\n",
       "      <td>5.170</td>\n",
       "      <td>59.830</td>\n",
       "      <td>0.000</td>\n",
       "      <td>0.000</td>\n",
       "      <td>0.000</td>\n",
       "      <td>0.000</td>\n",
       "      <td>1.000</td>\n",
       "      <td>1.000</td>\n",
       "      <td>1.000</td>\n",
       "    </tr>\n",
       "    <tr>\n",
       "      <th>25%</th>\n",
       "      <td>14.000</td>\n",
       "      <td>7.420</td>\n",
       "      <td>7.330</td>\n",
       "      <td>7.250</td>\n",
       "      <td>7.330</td>\n",
       "      <td>7.330</td>\n",
       "      <td>7.330</td>\n",
       "      <td>10.000</td>\n",
       "      <td>10.000</td>\n",
       "      <td>10.000</td>\n",
       "      <td>7.250</td>\n",
       "      <td>81.170</td>\n",
       "      <td>0.090</td>\n",
       "      <td>0.000</td>\n",
       "      <td>0.000</td>\n",
       "      <td>0.000</td>\n",
       "      <td>1100.000</td>\n",
       "      <td>1100.000</td>\n",
       "      <td>1100.000</td>\n",
       "    </tr>\n",
       "    <tr>\n",
       "      <th>50%</th>\n",
       "      <td>175.000</td>\n",
       "      <td>7.580</td>\n",
       "      <td>7.580</td>\n",
       "      <td>7.420</td>\n",
       "      <td>7.580</td>\n",
       "      <td>7.500</td>\n",
       "      <td>7.500</td>\n",
       "      <td>10.000</td>\n",
       "      <td>10.000</td>\n",
       "      <td>10.000</td>\n",
       "      <td>7.500</td>\n",
       "      <td>82.500</td>\n",
       "      <td>0.110</td>\n",
       "      <td>0.000</td>\n",
       "      <td>0.000</td>\n",
       "      <td>2.000</td>\n",
       "      <td>1310.640</td>\n",
       "      <td>1350.000</td>\n",
       "      <td>1310.640</td>\n",
       "    </tr>\n",
       "    <tr>\n",
       "      <th>75%</th>\n",
       "      <td>275.000</td>\n",
       "      <td>7.750</td>\n",
       "      <td>7.750</td>\n",
       "      <td>7.580</td>\n",
       "      <td>7.750</td>\n",
       "      <td>7.670</td>\n",
       "      <td>7.750</td>\n",
       "      <td>10.000</td>\n",
       "      <td>10.000</td>\n",
       "      <td>10.000</td>\n",
       "      <td>7.750</td>\n",
       "      <td>83.670</td>\n",
       "      <td>0.120</td>\n",
       "      <td>0.000</td>\n",
       "      <td>0.000</td>\n",
       "      <td>4.000</td>\n",
       "      <td>1600.000</td>\n",
       "      <td>1650.000</td>\n",
       "      <td>1600.000</td>\n",
       "    </tr>\n",
       "    <tr>\n",
       "      <th>max</th>\n",
       "      <td>1062.000</td>\n",
       "      <td>8.750</td>\n",
       "      <td>8.830</td>\n",
       "      <td>8.670</td>\n",
       "      <td>8.750</td>\n",
       "      <td>8.580</td>\n",
       "      <td>8.750</td>\n",
       "      <td>10.000</td>\n",
       "      <td>10.000</td>\n",
       "      <td>10.000</td>\n",
       "      <td>10.000</td>\n",
       "      <td>90.580</td>\n",
       "      <td>0.280</td>\n",
       "      <td>63.000</td>\n",
       "      <td>11.000</td>\n",
       "      <td>55.000</td>\n",
       "      <td>190164.000</td>\n",
       "      <td>190164.000</td>\n",
       "      <td>190164.000</td>\n",
       "    </tr>\n",
       "  </tbody>\n",
       "</table>\n",
       "</div>"
      ],
      "text/plain": [
       "       Number.of.Bags     Aroma    Flavor  Aftertaste   Acidity      Body  \\\n",
       "count        1337.000  1337.000  1337.000    1337.000  1337.000  1337.000   \n",
       "mean          154.096     7.573     7.527       7.407     7.542     7.523   \n",
       "std           130.042     0.315     0.341       0.349     0.319     0.308   \n",
       "min             0.000     5.080     6.080       6.170     5.250     5.080   \n",
       "25%            14.000     7.420     7.330       7.250     7.330     7.330   \n",
       "50%           175.000     7.580     7.580       7.420     7.580     7.500   \n",
       "75%           275.000     7.750     7.750       7.580     7.750     7.670   \n",
       "max          1062.000     8.750     8.830       8.670     8.750     8.580   \n",
       "\n",
       "        Balance  Uniformity  Clean.Cup  Sweetness  Cupper.Points  \\\n",
       "count  1337.000    1337.000   1337.000   1337.000       1337.000   \n",
       "mean      7.524       9.842      9.842      9.864          7.509   \n",
       "std       0.354       0.485      0.716      0.554          0.427   \n",
       "min       5.250       6.000      0.000      1.330          5.170   \n",
       "25%       7.330      10.000     10.000     10.000          7.250   \n",
       "50%       7.500      10.000     10.000     10.000          7.500   \n",
       "75%       7.750      10.000     10.000     10.000          7.750   \n",
       "max       8.750      10.000     10.000     10.000         10.000   \n",
       "\n",
       "       Total.Cup.Points  Moisture  Category.One.Defects   Quakers  \\\n",
       "count          1337.000  1337.000              1337.000  1336.000   \n",
       "mean             82.154     0.088                 0.480     0.174   \n",
       "std               2.687     0.048                 2.552     0.833   \n",
       "min              59.830     0.000                 0.000     0.000   \n",
       "25%              81.170     0.090                 0.000     0.000   \n",
       "50%              82.500     0.110                 0.000     0.000   \n",
       "75%              83.670     0.120                 0.000     0.000   \n",
       "max              90.580     0.280                63.000    11.000   \n",
       "\n",
       "       Category.Two.Defects  altitude_low_meters  altitude_high_meters  \\\n",
       "count              1337.000             1108.000              1108.000   \n",
       "mean                  3.558             1751.030              1799.708   \n",
       "std                   5.316             8673.349              8672.712   \n",
       "min                   0.000                1.000                 1.000   \n",
       "25%                   0.000             1100.000              1100.000   \n",
       "50%                   2.000             1310.640              1350.000   \n",
       "75%                   4.000             1600.000              1650.000   \n",
       "max                  55.000           190164.000            190164.000   \n",
       "\n",
       "       altitude_mean_meters  \n",
       "count              1108.000  \n",
       "mean               1775.369  \n",
       "std                8672.533  \n",
       "min                   1.000  \n",
       "25%                1100.000  \n",
       "50%                1310.640  \n",
       "75%                1600.000  \n",
       "max              190164.000  "
      ]
     },
     "execution_count": 213,
     "metadata": {},
     "output_type": "execute_result"
    }
   ],
   "source": [
    "df_coffee.describe().round(3)\n",
    "#Percebe-se que há altitudes bem elevadas no máximo das colunas altitude_low_meters, altitude_high_meters e altitude_mean_meters\t "
   ]
  },
  {
   "cell_type": "markdown",
   "metadata": {},
   "source": [
    "____\n",
    "Corrigindo altitudes\n",
    "____"
   ]
  },
  {
   "cell_type": "code",
   "execution_count": 214,
   "metadata": {},
   "outputs": [
    {
     "data": {
      "image/png": "[encoded data removed]",
      "text/plain": [
       "<Figure size 720x360 with 1 Axes>"
      ]
     },
     "metadata": {},
     "output_type": "display_data"
    }
   ],
   "source": [
    "#Checando outliers da altitude\n",
    "fig = df_coffee.plot(y='altitude_mean_meters', kind='box', figsize=(10, 5));\n",
    "\n",
    "plt.xlabel('Média de altitude (m)');\n"
   ]
  },
  {
   "cell_type": "code",
   "execution_count": 215,
   "metadata": {},
   "outputs": [
    {
     "data": {
      "text/html": [
       "<div>\n",
       "<style scoped>\n",
       "    .dataframe tbody tr th:only-of-type {\n",
       "        vertical-align: middle;\n",
       "    }\n",
       "\n",
       "    .dataframe tbody tr th {\n",
       "        vertical-align: top;\n",
       "    }\n",
       "\n",
       "    .dataframe thead th {\n",
       "        text-align: right;\n",
       "    }\n",
       "</style>\n",
       "<table border=\"1\" class=\"dataframe\">\n",
       "  <thead>\n",
       "    <tr style=\"text-align: right;\">\n",
       "      <th></th>\n",
       "      <th>altitude_low_meters</th>\n",
       "      <th>altitude_high_meters</th>\n",
       "      <th>altitude_mean_meters</th>\n",
       "    </tr>\n",
       "    <tr>\n",
       "      <th>Country.of.Origin</th>\n",
       "      <th></th>\n",
       "      <th></th>\n",
       "      <th></th>\n",
       "    </tr>\n",
       "  </thead>\n",
       "  <tbody>\n",
       "    <tr>\n",
       "      <th>Brazil</th>\n",
       "      <td>11000.00</td>\n",
       "      <td>11000.00</td>\n",
       "      <td>11000.00</td>\n",
       "    </tr>\n",
       "    <tr>\n",
       "      <th>Burundi</th>\n",
       "      <td>1880.00</td>\n",
       "      <td>1880.00</td>\n",
       "      <td>1880.00</td>\n",
       "    </tr>\n",
       "    <tr>\n",
       "      <th>China</th>\n",
       "      <td>1850.00</td>\n",
       "      <td>1850.00</td>\n",
       "      <td>1850.00</td>\n",
       "    </tr>\n",
       "    <tr>\n",
       "      <th>Colombia</th>\n",
       "      <td>2560.00</td>\n",
       "      <td>5900.00</td>\n",
       "      <td>3850.00</td>\n",
       "    </tr>\n",
       "    <tr>\n",
       "      <th>Costa Rica</th>\n",
       "      <td>1900.00</td>\n",
       "      <td>1900.00</td>\n",
       "      <td>1900.00</td>\n",
       "    </tr>\n",
       "    <tr>\n",
       "      <th>Cote d?Ivoire</th>\n",
       "      <td>200.00</td>\n",
       "      <td>200.00</td>\n",
       "      <td>200.00</td>\n",
       "    </tr>\n",
       "    <tr>\n",
       "      <th>Ecuador</th>\n",
       "      <td>800.00</td>\n",
       "      <td>800.00</td>\n",
       "      <td>800.00</td>\n",
       "    </tr>\n",
       "    <tr>\n",
       "      <th>El Salvador</th>\n",
       "      <td>1500.00</td>\n",
       "      <td>1500.00</td>\n",
       "      <td>1500.00</td>\n",
       "    </tr>\n",
       "    <tr>\n",
       "      <th>Ethiopia</th>\n",
       "      <td>2000.00</td>\n",
       "      <td>2200.00</td>\n",
       "      <td>2075.00</td>\n",
       "    </tr>\n",
       "    <tr>\n",
       "      <th>Guatemala</th>\n",
       "      <td>190164.00</td>\n",
       "      <td>190164.00</td>\n",
       "      <td>190164.00</td>\n",
       "    </tr>\n",
       "    <tr>\n",
       "      <th>Haiti</th>\n",
       "      <td>1280.16</td>\n",
       "      <td>1400.00</td>\n",
       "      <td>1280.16</td>\n",
       "    </tr>\n",
       "    <tr>\n",
       "      <th>Honduras</th>\n",
       "      <td>1650.00</td>\n",
       "      <td>1650.00</td>\n",
       "      <td>1650.00</td>\n",
       "    </tr>\n",
       "    <tr>\n",
       "      <th>India</th>\n",
       "      <td>3170.00</td>\n",
       "      <td>3170.00</td>\n",
       "      <td>3170.00</td>\n",
       "    </tr>\n",
       "    <tr>\n",
       "      <th>Indonesia</th>\n",
       "      <td>3500.00</td>\n",
       "      <td>3500.00</td>\n",
       "      <td>3500.00</td>\n",
       "    </tr>\n",
       "    <tr>\n",
       "      <th>Japan</th>\n",
       "      <td>170.00</td>\n",
       "      <td>170.00</td>\n",
       "      <td>170.00</td>\n",
       "    </tr>\n",
       "    <tr>\n",
       "      <th>Kenya</th>\n",
       "      <td>2000.00</td>\n",
       "      <td>2200.00</td>\n",
       "      <td>2000.00</td>\n",
       "    </tr>\n",
       "    <tr>\n",
       "      <th>Laos</th>\n",
       "      <td>1300.00</td>\n",
       "      <td>1300.00</td>\n",
       "      <td>1300.00</td>\n",
       "    </tr>\n",
       "    <tr>\n",
       "      <th>Malawi</th>\n",
       "      <td>2500.00</td>\n",
       "      <td>2500.00</td>\n",
       "      <td>2500.00</td>\n",
       "    </tr>\n",
       "    <tr>\n",
       "      <th>Mauritius</th>\n",
       "      <td>280.00</td>\n",
       "      <td>280.00</td>\n",
       "      <td>280.00</td>\n",
       "    </tr>\n",
       "    <tr>\n",
       "      <th>Mexico</th>\n",
       "      <td>1800.00</td>\n",
       "      <td>1800.00</td>\n",
       "      <td>1800.00</td>\n",
       "    </tr>\n",
       "    <tr>\n",
       "      <th>Myanmar</th>\n",
       "      <td>4287.00</td>\n",
       "      <td>4287.00</td>\n",
       "      <td>4287.00</td>\n",
       "    </tr>\n",
       "    <tr>\n",
       "      <th>Nicaragua</th>\n",
       "      <td>110000.00</td>\n",
       "      <td>110000.00</td>\n",
       "      <td>110000.00</td>\n",
       "    </tr>\n",
       "    <tr>\n",
       "      <th>Panama</th>\n",
       "      <td>1680.00</td>\n",
       "      <td>1680.00</td>\n",
       "      <td>1680.00</td>\n",
       "    </tr>\n",
       "    <tr>\n",
       "      <th>Papua New Guinea</th>\n",
       "      <td>1700.00</td>\n",
       "      <td>1700.00</td>\n",
       "      <td>1700.00</td>\n",
       "    </tr>\n",
       "    <tr>\n",
       "      <th>Peru</th>\n",
       "      <td>1400.00</td>\n",
       "      <td>1500.00</td>\n",
       "      <td>1400.00</td>\n",
       "    </tr>\n",
       "    <tr>\n",
       "      <th>Philippines</th>\n",
       "      <td>1600.00</td>\n",
       "      <td>1600.00</td>\n",
       "      <td>1600.00</td>\n",
       "    </tr>\n",
       "    <tr>\n",
       "      <th>Rwanda</th>\n",
       "      <td>1900.00</td>\n",
       "      <td>1900.00</td>\n",
       "      <td>1900.00</td>\n",
       "    </tr>\n",
       "    <tr>\n",
       "      <th>Taiwan</th>\n",
       "      <td>1300.00</td>\n",
       "      <td>1300.00</td>\n",
       "      <td>1300.00</td>\n",
       "    </tr>\n",
       "    <tr>\n",
       "      <th>Tanzania, United Republic Of</th>\n",
       "      <td>2285.00</td>\n",
       "      <td>2285.00</td>\n",
       "      <td>2285.00</td>\n",
       "    </tr>\n",
       "    <tr>\n",
       "      <th>Thailand</th>\n",
       "      <td>1500.00</td>\n",
       "      <td>1500.00</td>\n",
       "      <td>1500.00</td>\n",
       "    </tr>\n",
       "    <tr>\n",
       "      <th>Uganda</th>\n",
       "      <td>1950.00</td>\n",
       "      <td>1950.00</td>\n",
       "      <td>1950.00</td>\n",
       "    </tr>\n",
       "    <tr>\n",
       "      <th>United States</th>\n",
       "      <td>3000.00</td>\n",
       "      <td>3000.00</td>\n",
       "      <td>3000.00</td>\n",
       "    </tr>\n",
       "    <tr>\n",
       "      <th>United States (Hawaii)</th>\n",
       "      <td>609.60</td>\n",
       "      <td>609.60</td>\n",
       "      <td>609.60</td>\n",
       "    </tr>\n",
       "    <tr>\n",
       "      <th>United States (Puerto Rico)</th>\n",
       "      <td>853.44</td>\n",
       "      <td>853.44</td>\n",
       "      <td>853.44</td>\n",
       "    </tr>\n",
       "    <tr>\n",
       "      <th>Vietnam</th>\n",
       "      <td>1550.00</td>\n",
       "      <td>1550.00</td>\n",
       "      <td>1550.00</td>\n",
       "    </tr>\n",
       "    <tr>\n",
       "      <th>Zambia</th>\n",
       "      <td>1000.00</td>\n",
       "      <td>1500.00</td>\n",
       "      <td>1250.00</td>\n",
       "    </tr>\n",
       "  </tbody>\n",
       "</table>\n",
       "</div>"
      ],
      "text/plain": [
       "                              altitude_low_meters  altitude_high_meters  \\\n",
       "Country.of.Origin                                                         \n",
       "Brazil                                   11000.00              11000.00   \n",
       "Burundi                                   1880.00               1880.00   \n",
       "China                                     1850.00               1850.00   \n",
       "Colombia                                  2560.00               5900.00   \n",
       "Costa Rica                                1900.00               1900.00   \n",
       "Cote d?Ivoire                              200.00                200.00   \n",
       "Ecuador                                    800.00                800.00   \n",
       "El Salvador                               1500.00               1500.00   \n",
       "Ethiopia                                  2000.00               2200.00   \n",
       "Guatemala                               190164.00             190164.00   \n",
       "Haiti                                     1280.16               1400.00   \n",
       "Honduras                                  1650.00               1650.00   \n",
       "India                                     3170.00               3170.00   \n",
       "Indonesia                                 3500.00               3500.00   \n",
       "Japan                                      170.00                170.00   \n",
       "Kenya                                     2000.00               2200.00   \n",
       "Laos                                      1300.00               1300.00   \n",
       "Malawi                                    2500.00               2500.00   \n",
       "Mauritius                                  280.00                280.00   \n",
       "Mexico                                    1800.00               1800.00   \n",
       "Myanmar                                   4287.00               4287.00   \n",
       "Nicaragua                               110000.00             110000.00   \n",
       "Panama                                    1680.00               1680.00   \n",
       "Papua New Guinea                          1700.00               1700.00   \n",
       "Peru                                      1400.00               1500.00   \n",
       "Philippines                               1600.00               1600.00   \n",
       "Rwanda                                    1900.00               1900.00   \n",
       "Taiwan                                    1300.00               1300.00   \n",
       "Tanzania, United Republic Of              2285.00               2285.00   \n",
       "Thailand                                  1500.00               1500.00   \n",
       "Uganda                                    1950.00               1950.00   \n",
       "United States                             3000.00               3000.00   \n",
       "United States (Hawaii)                     609.60                609.60   \n",
       "United States (Puerto Rico)                853.44                853.44   \n",
       "Vietnam                                   1550.00               1550.00   \n",
       "Zambia                                    1000.00               1500.00   \n",
       "\n",
       "                              altitude_mean_meters  \n",
       "Country.of.Origin                                   \n",
       "Brazil                                    11000.00  \n",
       "Burundi                                    1880.00  \n",
       "China                                      1850.00  \n",
       "Colombia                                   3850.00  \n",
       "Costa Rica                                 1900.00  \n",
       "Cote d?Ivoire                               200.00  \n",
       "Ecuador                                     800.00  \n",
       "El Salvador                                1500.00  \n",
       "Ethiopia                                   2075.00  \n",
       "Guatemala                                190164.00  \n",
       "Haiti                                      1280.16  \n",
       "Honduras                                   1650.00  \n",
       "India                                      3170.00  \n",
       "Indonesia                                  3500.00  \n",
       "Japan                                       170.00  \n",
       "Kenya                                      2000.00  \n",
       "Laos                                       1300.00  \n",
       "Malawi                                     2500.00  \n",
       "Mauritius                                   280.00  \n",
       "Mexico                                     1800.00  \n",
       "Myanmar                                    4287.00  \n",
       "Nicaragua                                110000.00  \n",
       "Panama                                     1680.00  \n",
       "Papua New Guinea                           1700.00  \n",
       "Peru                                       1400.00  \n",
       "Philippines                                1600.00  \n",
       "Rwanda                                     1900.00  \n",
       "Taiwan                                     1300.00  \n",
       "Tanzania, United Republic Of               2285.00  \n",
       "Thailand                                   1500.00  \n",
       "Uganda                                     1950.00  \n",
       "United States                              3000.00  \n",
       "United States (Hawaii)                      609.60  \n",
       "United States (Puerto Rico)                 853.44  \n",
       "Vietnam                                    1550.00  \n",
       "Zambia                                     1250.00  "
      ]
     },
     "execution_count": 215,
     "metadata": {},
     "output_type": "execute_result"
    }
   ],
   "source": [
    "#Identificando países que tem altitudes muito elevadas\n",
    "#Chega-se à conclusão que Brasil, Guatemala e Nicaragua tem altitudes que são bem elevadas e foram inseridas errado.\n",
    "df_coffee.iloc[:,[1,31,32,33]].groupby('Country.of.Origin').max().round(2)"
   ]
  },
  {
   "cell_type": "code",
   "execution_count": 216,
   "metadata": {},
   "outputs": [
    {
     "data": {
      "text/html": [
       "<div>\n",
       "<style scoped>\n",
       "    .dataframe tbody tr th:only-of-type {\n",
       "        vertical-align: middle;\n",
       "    }\n",
       "\n",
       "    .dataframe tbody tr th {\n",
       "        vertical-align: top;\n",
       "    }\n",
       "\n",
       "    .dataframe thead th {\n",
       "        text-align: right;\n",
       "    }\n",
       "</style>\n",
       "<table border=\"1\" class=\"dataframe\">\n",
       "  <thead>\n",
       "    <tr style=\"text-align: right;\">\n",
       "      <th></th>\n",
       "      <th>Country.of.Origin</th>\n",
       "      <th>altitude_low_meters</th>\n",
       "      <th>altitude_high_meters</th>\n",
       "      <th>altitude_mean_meters</th>\n",
       "    </tr>\n",
       "  </thead>\n",
       "  <tbody>\n",
       "    <tr>\n",
       "      <th>543</th>\n",
       "      <td>Brazil</td>\n",
       "      <td>11000.0</td>\n",
       "      <td>11000.0</td>\n",
       "      <td>11000.0</td>\n",
       "    </tr>\n",
       "  </tbody>\n",
       "</table>\n",
       "</div>"
      ],
      "text/plain": [
       "    Country.of.Origin  altitude_low_meters  altitude_high_meters  \\\n",
       "543            Brazil              11000.0               11000.0   \n",
       "\n",
       "     altitude_mean_meters  \n",
       "543               11000.0  "
      ]
     },
     "metadata": {},
     "output_type": "display_data"
    }
   ],
   "source": [
    "display(df_coffee.loc[(df_coffee[\"Country.of.Origin\"] == \"Brazil\") & (df_coffee[\"altitude_high_meters\"] >= 2000)].iloc[:,[1,31,32,33]])\n",
    "cols = [\"altitude_low_meters\",\"altitude_high_meters\",\"altitude_mean_meters\"]\n",
    "\n",
    "for coluna in cols:\n",
    "    df_coffee[coluna].loc[df_coffee[coluna] == 11000] = 1100\n"
   ]
  },
  {
   "cell_type": "code",
   "execution_count": 217,
   "metadata": {},
   "outputs": [],
   "source": [
    "df_coffee.loc[(df_coffee[\"Country.of.Origin\"] == \"Nicaragua\") & (df_coffee[\"altitude_high_meters\"] >= 1000)].iloc[:,[1,31,32,33]]\n",
    "\n",
    "for coluna in cols:\n",
    "    df_coffee[coluna].loc[df_coffee[coluna] == 110000] = 1100"
   ]
  },
  {
   "cell_type": "code",
   "execution_count": 218,
   "metadata": {},
   "outputs": [
    {
     "data": {
      "text/html": [
       "<div>\n",
       "<style scoped>\n",
       "    .dataframe tbody tr th:only-of-type {\n",
       "        vertical-align: middle;\n",
       "    }\n",
       "\n",
       "    .dataframe tbody tr th {\n",
       "        vertical-align: top;\n",
       "    }\n",
       "\n",
       "    .dataframe thead th {\n",
       "        text-align: right;\n",
       "    }\n",
       "</style>\n",
       "<table border=\"1\" class=\"dataframe\">\n",
       "  <thead>\n",
       "    <tr style=\"text-align: right;\">\n",
       "      <th></th>\n",
       "      <th>Country.of.Origin</th>\n",
       "      <th>altitude_low_meters</th>\n",
       "      <th>altitude_high_meters</th>\n",
       "      <th>altitude_mean_meters</th>\n",
       "    </tr>\n",
       "  </thead>\n",
       "  <tbody>\n",
       "    <tr>\n",
       "      <th>215</th>\n",
       "      <td>Guatemala</td>\n",
       "      <td>3280.0</td>\n",
       "      <td>3280.0</td>\n",
       "      <td>3280.0</td>\n",
       "    </tr>\n",
       "    <tr>\n",
       "      <th>419</th>\n",
       "      <td>Guatemala</td>\n",
       "      <td>2100.0</td>\n",
       "      <td>2100.0</td>\n",
       "      <td>2100.0</td>\n",
       "    </tr>\n",
       "    <tr>\n",
       "      <th>837</th>\n",
       "      <td>Guatemala</td>\n",
       "      <td>3280.0</td>\n",
       "      <td>3280.0</td>\n",
       "      <td>3280.0</td>\n",
       "    </tr>\n",
       "    <tr>\n",
       "      <th>896</th>\n",
       "      <td>Guatemala</td>\n",
       "      <td>190164.0</td>\n",
       "      <td>190164.0</td>\n",
       "      <td>190164.0</td>\n",
       "    </tr>\n",
       "    <tr>\n",
       "      <th>1001</th>\n",
       "      <td>Guatemala</td>\n",
       "      <td>3280.0</td>\n",
       "      <td>3280.0</td>\n",
       "      <td>3280.0</td>\n",
       "    </tr>\n",
       "    <tr>\n",
       "      <th>1144</th>\n",
       "      <td>Guatemala</td>\n",
       "      <td>190164.0</td>\n",
       "      <td>190164.0</td>\n",
       "      <td>190164.0</td>\n",
       "    </tr>\n",
       "  </tbody>\n",
       "</table>\n",
       "</div>"
      ],
      "text/plain": [
       "     Country.of.Origin  altitude_low_meters  altitude_high_meters  \\\n",
       "215          Guatemala               3280.0                3280.0   \n",
       "419          Guatemala               2100.0                2100.0   \n",
       "837          Guatemala               3280.0                3280.0   \n",
       "896          Guatemala             190164.0              190164.0   \n",
       "1001         Guatemala               3280.0                3280.0   \n",
       "1144         Guatemala             190164.0              190164.0   \n",
       "\n",
       "      altitude_mean_meters  \n",
       "215                 3280.0  \n",
       "419                 2100.0  \n",
       "837                 3280.0  \n",
       "896               190164.0  \n",
       "1001                3280.0  \n",
       "1144              190164.0  "
      ]
     },
     "execution_count": 218,
     "metadata": {},
     "output_type": "execute_result"
    }
   ],
   "source": [
    "df_coffee.loc[(df_coffee[\"Country.of.Origin\"] == \"Guatemala\") & (df_coffee[\"altitude_high_meters\"] >= 2000)].iloc[:,[1,31,32,33]]"
   ]
  },
  {
   "cell_type": "code",
   "execution_count": 219,
   "metadata": {},
   "outputs": [],
   "source": [
    "cols = [\"altitude_low_meters\",\"altitude_high_meters\",\"altitude_mean_meters\"]\n",
    "\n",
    "for coluna in cols:\n",
    "    df_coffee[coluna][(df_coffee[coluna] == 190164)] = df_coffee[coluna][df_coffee['Country.of.Origin'] == 'Guatemala'].mean()"
   ]
  },
  {
   "cell_type": "code",
   "execution_count": 220,
   "metadata": {},
   "outputs": [
    {
     "data": {
      "text/html": [
       "<div>\n",
       "<style scoped>\n",
       "    .dataframe tbody tr th:only-of-type {\n",
       "        vertical-align: middle;\n",
       "    }\n",
       "\n",
       "    .dataframe tbody tr th {\n",
       "        vertical-align: top;\n",
       "    }\n",
       "\n",
       "    .dataframe thead th {\n",
       "        text-align: right;\n",
       "    }\n",
       "</style>\n",
       "<table border=\"1\" class=\"dataframe\">\n",
       "  <thead>\n",
       "    <tr style=\"text-align: right;\">\n",
       "      <th></th>\n",
       "      <th>altitude_low_meters</th>\n",
       "      <th>altitude_high_meters</th>\n",
       "      <th>altitude_mean_meters</th>\n",
       "    </tr>\n",
       "    <tr>\n",
       "      <th>Country.of.Origin</th>\n",
       "      <th></th>\n",
       "      <th></th>\n",
       "      <th></th>\n",
       "    </tr>\n",
       "  </thead>\n",
       "  <tbody>\n",
       "    <tr>\n",
       "      <th>Brazil</th>\n",
       "      <td>1.00</td>\n",
       "      <td>1.00</td>\n",
       "      <td>1.00</td>\n",
       "    </tr>\n",
       "    <tr>\n",
       "      <th>Burundi</th>\n",
       "      <td>1700.00</td>\n",
       "      <td>1700.00</td>\n",
       "      <td>1700.00</td>\n",
       "    </tr>\n",
       "    <tr>\n",
       "      <th>China</th>\n",
       "      <td>1100.00</td>\n",
       "      <td>1100.00</td>\n",
       "      <td>1100.00</td>\n",
       "    </tr>\n",
       "    <tr>\n",
       "      <th>Colombia</th>\n",
       "      <td>165.00</td>\n",
       "      <td>165.00</td>\n",
       "      <td>165.00</td>\n",
       "    </tr>\n",
       "    <tr>\n",
       "      <th>Costa Rica</th>\n",
       "      <td>13.00</td>\n",
       "      <td>13.00</td>\n",
       "      <td>13.00</td>\n",
       "    </tr>\n",
       "    <tr>\n",
       "      <th>Cote d?Ivoire</th>\n",
       "      <td>200.00</td>\n",
       "      <td>200.00</td>\n",
       "      <td>200.00</td>\n",
       "    </tr>\n",
       "    <tr>\n",
       "      <th>Ecuador</th>\n",
       "      <td>40.00</td>\n",
       "      <td>40.00</td>\n",
       "      <td>40.00</td>\n",
       "    </tr>\n",
       "    <tr>\n",
       "      <th>El Salvador</th>\n",
       "      <td>1200.00</td>\n",
       "      <td>1200.00</td>\n",
       "      <td>1200.00</td>\n",
       "    </tr>\n",
       "    <tr>\n",
       "      <th>Ethiopia</th>\n",
       "      <td>1097.28</td>\n",
       "      <td>1550.00</td>\n",
       "      <td>1493.52</td>\n",
       "    </tr>\n",
       "    <tr>\n",
       "      <th>Guatemala</th>\n",
       "      <td>157.89</td>\n",
       "      <td>157.89</td>\n",
       "      <td>157.89</td>\n",
       "    </tr>\n",
       "    <tr>\n",
       "      <th>Haiti</th>\n",
       "      <td>350.00</td>\n",
       "      <td>350.00</td>\n",
       "      <td>350.00</td>\n",
       "    </tr>\n",
       "    <tr>\n",
       "      <th>Honduras</th>\n",
       "      <td>1200.00</td>\n",
       "      <td>1200.00</td>\n",
       "      <td>1200.00</td>\n",
       "    </tr>\n",
       "    <tr>\n",
       "      <th>India</th>\n",
       "      <td>750.00</td>\n",
       "      <td>750.00</td>\n",
       "      <td>750.00</td>\n",
       "    </tr>\n",
       "    <tr>\n",
       "      <th>Indonesia</th>\n",
       "      <td>1200.00</td>\n",
       "      <td>1200.00</td>\n",
       "      <td>1200.00</td>\n",
       "    </tr>\n",
       "    <tr>\n",
       "      <th>Japan</th>\n",
       "      <td>170.00</td>\n",
       "      <td>170.00</td>\n",
       "      <td>170.00</td>\n",
       "    </tr>\n",
       "    <tr>\n",
       "      <th>Kenya</th>\n",
       "      <td>1.00</td>\n",
       "      <td>1.00</td>\n",
       "      <td>1.00</td>\n",
       "    </tr>\n",
       "    <tr>\n",
       "      <th>Laos</th>\n",
       "      <td>1250.00</td>\n",
       "      <td>1250.00</td>\n",
       "      <td>1250.00</td>\n",
       "    </tr>\n",
       "    <tr>\n",
       "      <th>Malawi</th>\n",
       "      <td>990.00</td>\n",
       "      <td>1000.00</td>\n",
       "      <td>995.00</td>\n",
       "    </tr>\n",
       "    <tr>\n",
       "      <th>Mauritius</th>\n",
       "      <td>280.00</td>\n",
       "      <td>280.00</td>\n",
       "      <td>280.00</td>\n",
       "    </tr>\n",
       "    <tr>\n",
       "      <th>Mexico</th>\n",
       "      <td>12.00</td>\n",
       "      <td>12.00</td>\n",
       "      <td>12.00</td>\n",
       "    </tr>\n",
       "    <tr>\n",
       "      <th>Myanmar</th>\n",
       "      <td>914.40</td>\n",
       "      <td>914.40</td>\n",
       "      <td>914.40</td>\n",
       "    </tr>\n",
       "    <tr>\n",
       "      <th>Nicaragua</th>\n",
       "      <td>700.00</td>\n",
       "      <td>900.00</td>\n",
       "      <td>900.00</td>\n",
       "    </tr>\n",
       "    <tr>\n",
       "      <th>Panama</th>\n",
       "      <td>1100.00</td>\n",
       "      <td>1100.00</td>\n",
       "      <td>1100.00</td>\n",
       "    </tr>\n",
       "    <tr>\n",
       "      <th>Papua New Guinea</th>\n",
       "      <td>1700.00</td>\n",
       "      <td>1700.00</td>\n",
       "      <td>1700.00</td>\n",
       "    </tr>\n",
       "    <tr>\n",
       "      <th>Peru</th>\n",
       "      <td>900.00</td>\n",
       "      <td>1400.00</td>\n",
       "      <td>1200.00</td>\n",
       "    </tr>\n",
       "    <tr>\n",
       "      <th>Philippines</th>\n",
       "      <td>1000.00</td>\n",
       "      <td>1000.00</td>\n",
       "      <td>1000.00</td>\n",
       "    </tr>\n",
       "    <tr>\n",
       "      <th>Rwanda</th>\n",
       "      <td>1900.00</td>\n",
       "      <td>1900.00</td>\n",
       "      <td>1900.00</td>\n",
       "    </tr>\n",
       "    <tr>\n",
       "      <th>Taiwan</th>\n",
       "      <td>50.00</td>\n",
       "      <td>50.00</td>\n",
       "      <td>50.00</td>\n",
       "    </tr>\n",
       "    <tr>\n",
       "      <th>Tanzania, United Republic Of</th>\n",
       "      <td>100.00</td>\n",
       "      <td>168.00</td>\n",
       "      <td>168.00</td>\n",
       "    </tr>\n",
       "    <tr>\n",
       "      <th>Thailand</th>\n",
       "      <td>800.00</td>\n",
       "      <td>800.00</td>\n",
       "      <td>800.00</td>\n",
       "    </tr>\n",
       "    <tr>\n",
       "      <th>Uganda</th>\n",
       "      <td>900.00</td>\n",
       "      <td>1095.00</td>\n",
       "      <td>1095.00</td>\n",
       "    </tr>\n",
       "    <tr>\n",
       "      <th>United States</th>\n",
       "      <td>795.00</td>\n",
       "      <td>795.00</td>\n",
       "      <td>795.00</td>\n",
       "    </tr>\n",
       "    <tr>\n",
       "      <th>United States (Hawaii)</th>\n",
       "      <td>426.72</td>\n",
       "      <td>426.72</td>\n",
       "      <td>426.72</td>\n",
       "    </tr>\n",
       "    <tr>\n",
       "      <th>United States (Puerto Rico)</th>\n",
       "      <td>853.44</td>\n",
       "      <td>853.44</td>\n",
       "      <td>853.44</td>\n",
       "    </tr>\n",
       "    <tr>\n",
       "      <th>Vietnam</th>\n",
       "      <td>1040.00</td>\n",
       "      <td>1040.00</td>\n",
       "      <td>1040.00</td>\n",
       "    </tr>\n",
       "    <tr>\n",
       "      <th>Zambia</th>\n",
       "      <td>1000.00</td>\n",
       "      <td>1500.00</td>\n",
       "      <td>1250.00</td>\n",
       "    </tr>\n",
       "  </tbody>\n",
       "</table>\n",
       "</div>"
      ],
      "text/plain": [
       "                              altitude_low_meters  altitude_high_meters  \\\n",
       "Country.of.Origin                                                         \n",
       "Brazil                                       1.00                  1.00   \n",
       "Burundi                                   1700.00               1700.00   \n",
       "China                                     1100.00               1100.00   \n",
       "Colombia                                   165.00                165.00   \n",
       "Costa Rica                                  13.00                 13.00   \n",
       "Cote d?Ivoire                              200.00                200.00   \n",
       "Ecuador                                     40.00                 40.00   \n",
       "El Salvador                               1200.00               1200.00   \n",
       "Ethiopia                                  1097.28               1550.00   \n",
       "Guatemala                                  157.89                157.89   \n",
       "Haiti                                      350.00                350.00   \n",
       "Honduras                                  1200.00               1200.00   \n",
       "India                                      750.00                750.00   \n",
       "Indonesia                                 1200.00               1200.00   \n",
       "Japan                                      170.00                170.00   \n",
       "Kenya                                        1.00                  1.00   \n",
       "Laos                                      1250.00               1250.00   \n",
       "Malawi                                     990.00               1000.00   \n",
       "Mauritius                                  280.00                280.00   \n",
       "Mexico                                      12.00                 12.00   \n",
       "Myanmar                                    914.40                914.40   \n",
       "Nicaragua                                  700.00                900.00   \n",
       "Panama                                    1100.00               1100.00   \n",
       "Papua New Guinea                          1700.00               1700.00   \n",
       "Peru                                       900.00               1400.00   \n",
       "Philippines                               1000.00               1000.00   \n",
       "Rwanda                                    1900.00               1900.00   \n",
       "Taiwan                                      50.00                 50.00   \n",
       "Tanzania, United Republic Of               100.00                168.00   \n",
       "Thailand                                   800.00                800.00   \n",
       "Uganda                                     900.00               1095.00   \n",
       "United States                              795.00                795.00   \n",
       "United States (Hawaii)                     426.72                426.72   \n",
       "United States (Puerto Rico)                853.44                853.44   \n",
       "Vietnam                                   1040.00               1040.00   \n",
       "Zambia                                    1000.00               1500.00   \n",
       "\n",
       "                              altitude_mean_meters  \n",
       "Country.of.Origin                                   \n",
       "Brazil                                        1.00  \n",
       "Burundi                                    1700.00  \n",
       "China                                      1100.00  \n",
       "Colombia                                    165.00  \n",
       "Costa Rica                                   13.00  \n",
       "Cote d?Ivoire                               200.00  \n",
       "Ecuador                                      40.00  \n",
       "El Salvador                                1200.00  \n",
       "Ethiopia                                   1493.52  \n",
       "Guatemala                                   157.89  \n",
       "Haiti                                       350.00  \n",
       "Honduras                                   1200.00  \n",
       "India                                       750.00  \n",
       "Indonesia                                  1200.00  \n",
       "Japan                                       170.00  \n",
       "Kenya                                         1.00  \n",
       "Laos                                       1250.00  \n",
       "Malawi                                      995.00  \n",
       "Mauritius                                   280.00  \n",
       "Mexico                                       12.00  \n",
       "Myanmar                                     914.40  \n",
       "Nicaragua                                   900.00  \n",
       "Panama                                     1100.00  \n",
       "Papua New Guinea                           1700.00  \n",
       "Peru                                       1200.00  \n",
       "Philippines                                1000.00  \n",
       "Rwanda                                     1900.00  \n",
       "Taiwan                                       50.00  \n",
       "Tanzania, United Republic Of                168.00  \n",
       "Thailand                                    800.00  \n",
       "Uganda                                     1095.00  \n",
       "United States                               795.00  \n",
       "United States (Hawaii)                      426.72  \n",
       "United States (Puerto Rico)                 853.44  \n",
       "Vietnam                                    1040.00  \n",
       "Zambia                                     1250.00  "
      ]
     },
     "execution_count": 220,
     "metadata": {},
     "output_type": "execute_result"
    }
   ],
   "source": [
    "#Identificando países com baixas altitudes\n",
    "df_coffee.iloc[:,[1,31,32,33]].groupby('Country.of.Origin').min().round(2)"
   ]
  },
  {
   "cell_type": "code",
   "execution_count": 221,
   "metadata": {},
   "outputs": [
    {
     "data": {
      "text/html": [
       "<div>\n",
       "<style scoped>\n",
       "    .dataframe tbody tr th:only-of-type {\n",
       "        vertical-align: middle;\n",
       "    }\n",
       "\n",
       "    .dataframe tbody tr th {\n",
       "        vertical-align: top;\n",
       "    }\n",
       "\n",
       "    .dataframe thead th {\n",
       "        text-align: right;\n",
       "    }\n",
       "</style>\n",
       "<table border=\"1\" class=\"dataframe\">\n",
       "  <thead>\n",
       "    <tr style=\"text-align: right;\">\n",
       "      <th></th>\n",
       "      <th>Country.of.Origin</th>\n",
       "      <th>Region</th>\n",
       "      <th>altitude_low_meters</th>\n",
       "      <th>altitude_high_meters</th>\n",
       "      <th>altitude_mean_meters</th>\n",
       "    </tr>\n",
       "  </thead>\n",
       "  <tbody>\n",
       "    <tr>\n",
       "      <th>41</th>\n",
       "      <td>Brazil</td>\n",
       "      <td>sul de minas - carmo de minas</td>\n",
       "      <td>12.0</td>\n",
       "      <td>12.0</td>\n",
       "      <td>12.0</td>\n",
       "    </tr>\n",
       "    <tr>\n",
       "      <th>42</th>\n",
       "      <td>Brazil</td>\n",
       "      <td>sul de minas - carmo de minas</td>\n",
       "      <td>12.0</td>\n",
       "      <td>12.0</td>\n",
       "      <td>12.0</td>\n",
       "    </tr>\n",
       "    <tr>\n",
       "      <th>279</th>\n",
       "      <td>Brazil</td>\n",
       "      <td>south of minas</td>\n",
       "      <td>1.0</td>\n",
       "      <td>1.0</td>\n",
       "      <td>1.0</td>\n",
       "    </tr>\n",
       "    <tr>\n",
       "      <th>481</th>\n",
       "      <td>Brazil</td>\n",
       "      <td>south of minas</td>\n",
       "      <td>1.0</td>\n",
       "      <td>1.0</td>\n",
       "      <td>1.0</td>\n",
       "    </tr>\n",
       "    <tr>\n",
       "      <th>613</th>\n",
       "      <td>Brazil</td>\n",
       "      <td>south of minas</td>\n",
       "      <td>1.0</td>\n",
       "      <td>1.0</td>\n",
       "      <td>1.0</td>\n",
       "    </tr>\n",
       "    <tr>\n",
       "      <th>683</th>\n",
       "      <td>Brazil</td>\n",
       "      <td>south of minas</td>\n",
       "      <td>1.0</td>\n",
       "      <td>1.0</td>\n",
       "      <td>1.0</td>\n",
       "    </tr>\n",
       "    <tr>\n",
       "      <th>737</th>\n",
       "      <td>Brazil</td>\n",
       "      <td>south of minas</td>\n",
       "      <td>1.0</td>\n",
       "      <td>1.0</td>\n",
       "      <td>1.0</td>\n",
       "    </tr>\n",
       "    <tr>\n",
       "      <th>761</th>\n",
       "      <td>Brazil</td>\n",
       "      <td>south of minas</td>\n",
       "      <td>1.0</td>\n",
       "      <td>1.0</td>\n",
       "      <td>1.0</td>\n",
       "    </tr>\n",
       "    <tr>\n",
       "      <th>780</th>\n",
       "      <td>Brazil</td>\n",
       "      <td>south of minas</td>\n",
       "      <td>1.0</td>\n",
       "      <td>1.0</td>\n",
       "      <td>1.0</td>\n",
       "    </tr>\n",
       "    <tr>\n",
       "      <th>838</th>\n",
       "      <td>Brazil</td>\n",
       "      <td>south of minas</td>\n",
       "      <td>1.0</td>\n",
       "      <td>1.0</td>\n",
       "      <td>1.0</td>\n",
       "    </tr>\n",
       "    <tr>\n",
       "      <th>839</th>\n",
       "      <td>Brazil</td>\n",
       "      <td>south of minas</td>\n",
       "      <td>1.0</td>\n",
       "      <td>1.0</td>\n",
       "      <td>1.0</td>\n",
       "    </tr>\n",
       "    <tr>\n",
       "      <th>877</th>\n",
       "      <td>Brazil</td>\n",
       "      <td>south of minas</td>\n",
       "      <td>1.0</td>\n",
       "      <td>1.0</td>\n",
       "      <td>1.0</td>\n",
       "    </tr>\n",
       "    <tr>\n",
       "      <th>963</th>\n",
       "      <td>Brazil</td>\n",
       "      <td>south of minas</td>\n",
       "      <td>1.0</td>\n",
       "      <td>1.0</td>\n",
       "      <td>1.0</td>\n",
       "    </tr>\n",
       "  </tbody>\n",
       "</table>\n",
       "</div>"
      ],
      "text/plain": [
       "    Country.of.Origin                         Region  altitude_low_meters  \\\n",
       "41             Brazil  sul de minas - carmo de minas                 12.0   \n",
       "42             Brazil  sul de minas - carmo de minas                 12.0   \n",
       "279            Brazil                 south of minas                  1.0   \n",
       "481            Brazil                 south of minas                  1.0   \n",
       "613            Brazil                 south of minas                  1.0   \n",
       "683            Brazil                 south of minas                  1.0   \n",
       "737            Brazil                 south of minas                  1.0   \n",
       "761            Brazil                 south of minas                  1.0   \n",
       "780            Brazil                 south of minas                  1.0   \n",
       "838            Brazil                 south of minas                  1.0   \n",
       "839            Brazil                 south of minas                  1.0   \n",
       "877            Brazil                 south of minas                  1.0   \n",
       "963            Brazil                 south of minas                  1.0   \n",
       "\n",
       "     altitude_high_meters  altitude_mean_meters  \n",
       "41                   12.0                  12.0  \n",
       "42                   12.0                  12.0  \n",
       "279                   1.0                   1.0  \n",
       "481                   1.0                   1.0  \n",
       "613                   1.0                   1.0  \n",
       "683                   1.0                   1.0  \n",
       "737                   1.0                   1.0  \n",
       "761                   1.0                   1.0  \n",
       "780                   1.0                   1.0  \n",
       "838                   1.0                   1.0  \n",
       "839                   1.0                   1.0  \n",
       "877                   1.0                   1.0  \n",
       "963                   1.0                   1.0  "
      ]
     },
     "execution_count": 221,
     "metadata": {},
     "output_type": "execute_result"
    }
   ],
   "source": [
    "df_coffee.loc[(df_coffee[\"Country.of.Origin\"] == \"Brazil\") & (df_coffee[\"altitude_high_meters\"] < 100)].iloc[:,[1,4,31,32,33]]"
   ]
  },
  {
   "cell_type": "code",
   "execution_count": 222,
   "metadata": {},
   "outputs": [],
   "source": [
    "cols = [\"altitude_low_meters\",\"altitude_high_meters\",\"altitude_mean_meters\"]\n",
    "\n",
    "for coluna in cols:\n",
    "    df_coffee[coluna].loc[(df_coffee[\"Country.of.Origin\"] == \"Brazil\") & (df_coffee[\"Region\"] == \"sul de minas - carmo de minas\")] =  1200\n",
    "    df_coffee[coluna].loc[(df_coffee[\"Country.of.Origin\"] == \"Brazil\") & (df_coffee[\"Region\"] == \"south of minas\")] =  1000\n",
    "    df_coffee[coluna].loc[(df_coffee[\"Country.of.Origin\"] == \"Brazil\") & (df_coffee[\"Region\"] == \"sul de minas\")] =  1250\n"
   ]
  },
  {
   "cell_type": "code",
   "execution_count": 223,
   "metadata": {},
   "outputs": [],
   "source": [
    "df_coffee.loc[(df_coffee[\"Country.of.Origin\"] == \"Kenya\")].iloc[:,[1,4,31,32,33]]\n",
    "for coluna in cols:\n",
    "    df_coffee[coluna].loc[(df_coffee[\"Country.of.Origin\"] == \"Kenya\") & (df_coffee[coluna] < 600)] = df_coffee[coluna][df_coffee['Country.of.Origin'] == 'Kenya'].mean()"
   ]
  },
  {
   "cell_type": "code",
   "execution_count": 224,
   "metadata": {},
   "outputs": [],
   "source": [
    "for coluna in cols:\n",
    "    df_coffee[coluna].loc[(df_coffee[\"Country.of.Origin\"] == \"Guatemala\") & (df_coffee[\"Region\"] == \"el progreso\")] =  1370\n",
    "    df_coffee[coluna].loc[(df_coffee[\"Country.of.Origin\"] == \"Guatemala\") & (df_coffee[\"Region\"] == \"oriente\")] =  1370\n"
   ]
  },
  {
   "cell_type": "code",
   "execution_count": 225,
   "metadata": {},
   "outputs": [],
   "source": [
    "for coluna in cols:\n",
    "    df_coffee[coluna].loc[(df_coffee[\"Country.of.Origin\"] == \"Mexico\") & (df_coffee[\"altitude_low_meters\"] == 100)] =  1000\n",
    "    df_coffee[coluna].loc[(df_coffee[\"Country.of.Origin\"] == \"Mexico\") & (df_coffee[\"Region\"] == \"amatenango de la frontera\")] =  1600\n"
   ]
  },
  {
   "cell_type": "code",
   "execution_count": 226,
   "metadata": {},
   "outputs": [],
   "source": [
    "for coluna in cols:\n",
    "    df_coffee[coluna].loc[(df_coffee[\"Country.of.Origin\"] == \"Costa Rica\") & (df_coffee[\"Region\"] == \"turrialba\")] =  1300\n",
    "    df_coffee[coluna].loc[(df_coffee[\"Country.of.Origin\"] == \"Costa Rica\") & (df_coffee[\"altitude_low_meters\"] == 185) & (df_coffee[\"Region\"] == \"tarrazu\")] =  1850"
   ]
  },
  {
   "cell_type": "markdown",
   "metadata": {},
   "source": [
    "____\n",
    "Substituindo valores Nan nas altitudes\n",
    "___"
   ]
  },
  {
   "cell_type": "code",
   "execution_count": 227,
   "metadata": {},
   "outputs": [
    {
     "data": {
      "text/html": [
       "<div>\n",
       "<style scoped>\n",
       "    .dataframe tbody tr th:only-of-type {\n",
       "        vertical-align: middle;\n",
       "    }\n",
       "\n",
       "    .dataframe tbody tr th {\n",
       "        vertical-align: top;\n",
       "    }\n",
       "\n",
       "    .dataframe thead th {\n",
       "        text-align: right;\n",
       "    }\n",
       "</style>\n",
       "<table border=\"1\" class=\"dataframe\">\n",
       "  <thead>\n",
       "    <tr style=\"text-align: right;\">\n",
       "      <th></th>\n",
       "      <th>Species</th>\n",
       "      <th>Country.of.Origin</th>\n",
       "      <th>Company</th>\n",
       "      <th>Altitude</th>\n",
       "      <th>Region</th>\n",
       "      <th>Number.of.Bags</th>\n",
       "      <th>Bag.Weight</th>\n",
       "      <th>In.Country.Partner</th>\n",
       "      <th>Harvest.Year</th>\n",
       "      <th>Grading.Date</th>\n",
       "      <th>...</th>\n",
       "      <th>Moisture</th>\n",
       "      <th>Category.One.Defects</th>\n",
       "      <th>Quakers</th>\n",
       "      <th>Color</th>\n",
       "      <th>Category.Two.Defects</th>\n",
       "      <th>Expiration</th>\n",
       "      <th>unit_of_measurement</th>\n",
       "      <th>altitude_low_meters</th>\n",
       "      <th>altitude_high_meters</th>\n",
       "      <th>altitude_mean_meters</th>\n",
       "    </tr>\n",
       "  </thead>\n",
       "  <tbody>\n",
       "    <tr>\n",
       "      <th>5</th>\n",
       "      <td>Arabica</td>\n",
       "      <td>Brazil</td>\n",
       "      <td>NaN</td>\n",
       "      <td>NaN</td>\n",
       "      <td>Desconhecida</td>\n",
       "      <td>100</td>\n",
       "      <td>30 kg</td>\n",
       "      <td>Specialty Coffee Institute of Asia</td>\n",
       "      <td>2013</td>\n",
       "      <td>September 3rd, 2013</td>\n",
       "      <td>...</td>\n",
       "      <td>0.11</td>\n",
       "      <td>0</td>\n",
       "      <td>0.0</td>\n",
       "      <td>Bluish-Green</td>\n",
       "      <td>1</td>\n",
       "      <td>September 3rd, 2014</td>\n",
       "      <td>m</td>\n",
       "      <td>NaN</td>\n",
       "      <td>NaN</td>\n",
       "      <td>NaN</td>\n",
       "    </tr>\n",
       "    <tr>\n",
       "      <th>6</th>\n",
       "      <td>Arabica</td>\n",
       "      <td>Peru</td>\n",
       "      <td>richmond investment-coffee department</td>\n",
       "      <td>NaN</td>\n",
       "      <td>Desconhecida</td>\n",
       "      <td>100</td>\n",
       "      <td>69 kg</td>\n",
       "      <td>Specialty Coffee Institute of Asia</td>\n",
       "      <td>2012</td>\n",
       "      <td>September 17th, 2012</td>\n",
       "      <td>...</td>\n",
       "      <td>0.11</td>\n",
       "      <td>0</td>\n",
       "      <td>0.0</td>\n",
       "      <td>Bluish-Green</td>\n",
       "      <td>0</td>\n",
       "      <td>September 17th, 2013</td>\n",
       "      <td>m</td>\n",
       "      <td>NaN</td>\n",
       "      <td>NaN</td>\n",
       "      <td>NaN</td>\n",
       "    </tr>\n",
       "    <tr>\n",
       "      <th>17</th>\n",
       "      <td>Arabica</td>\n",
       "      <td>Ethiopia</td>\n",
       "      <td>NaN</td>\n",
       "      <td>NaN</td>\n",
       "      <td>yirgacheffe</td>\n",
       "      <td>150</td>\n",
       "      <td>6</td>\n",
       "      <td>Ethiopia Commodity Exchange</td>\n",
       "      <td>2009/2010</td>\n",
       "      <td>June 16th, 2010</td>\n",
       "      <td>...</td>\n",
       "      <td>0.05</td>\n",
       "      <td>0</td>\n",
       "      <td>0.0</td>\n",
       "      <td>NaN</td>\n",
       "      <td>2</td>\n",
       "      <td>June 16th, 2011</td>\n",
       "      <td>m</td>\n",
       "      <td>NaN</td>\n",
       "      <td>NaN</td>\n",
       "      <td>NaN</td>\n",
       "    </tr>\n",
       "    <tr>\n",
       "      <th>24</th>\n",
       "      <td>Arabica</td>\n",
       "      <td>Ethiopia</td>\n",
       "      <td>NaN</td>\n",
       "      <td>NaN</td>\n",
       "      <td>sidamo</td>\n",
       "      <td>100</td>\n",
       "      <td>60 kg</td>\n",
       "      <td>Specialty Coffee Institute of Asia</td>\n",
       "      <td>2013</td>\n",
       "      <td>September 3rd, 2013</td>\n",
       "      <td>...</td>\n",
       "      <td>0.11</td>\n",
       "      <td>0</td>\n",
       "      <td>0.0</td>\n",
       "      <td>Bluish-Green</td>\n",
       "      <td>1</td>\n",
       "      <td>September 3rd, 2014</td>\n",
       "      <td>m</td>\n",
       "      <td>NaN</td>\n",
       "      <td>NaN</td>\n",
       "      <td>NaN</td>\n",
       "    </tr>\n",
       "    <tr>\n",
       "      <th>26</th>\n",
       "      <td>Arabica</td>\n",
       "      <td>Ethiopia</td>\n",
       "      <td>NaN</td>\n",
       "      <td>NaN</td>\n",
       "      <td>sidamo</td>\n",
       "      <td>150</td>\n",
       "      <td>6</td>\n",
       "      <td>Ethiopia Commodity Exchange</td>\n",
       "      <td>2009/2010</td>\n",
       "      <td>June 16th, 2010</td>\n",
       "      <td>...</td>\n",
       "      <td>0.05</td>\n",
       "      <td>0</td>\n",
       "      <td>0.0</td>\n",
       "      <td>NaN</td>\n",
       "      <td>2</td>\n",
       "      <td>June 16th, 2011</td>\n",
       "      <td>m</td>\n",
       "      <td>NaN</td>\n",
       "      <td>NaN</td>\n",
       "      <td>NaN</td>\n",
       "    </tr>\n",
       "    <tr>\n",
       "      <th>...</th>\n",
       "      <td>...</td>\n",
       "      <td>...</td>\n",
       "      <td>...</td>\n",
       "      <td>...</td>\n",
       "      <td>...</td>\n",
       "      <td>...</td>\n",
       "      <td>...</td>\n",
       "      <td>...</td>\n",
       "      <td>...</td>\n",
       "      <td>...</td>\n",
       "      <td>...</td>\n",
       "      <td>...</td>\n",
       "      <td>...</td>\n",
       "      <td>...</td>\n",
       "      <td>...</td>\n",
       "      <td>...</td>\n",
       "      <td>...</td>\n",
       "      <td>...</td>\n",
       "      <td>...</td>\n",
       "      <td>...</td>\n",
       "      <td>...</td>\n",
       "    </tr>\n",
       "    <tr>\n",
       "      <th>1296</th>\n",
       "      <td>Arabica</td>\n",
       "      <td>United States (Hawaii)</td>\n",
       "      <td>kona pacific farmers cooperative</td>\n",
       "      <td>NaN</td>\n",
       "      <td>kona</td>\n",
       "      <td>11</td>\n",
       "      <td>100 lbs</td>\n",
       "      <td>Specialty Coffee Association</td>\n",
       "      <td>2014</td>\n",
       "      <td>March 10th, 2014</td>\n",
       "      <td>...</td>\n",
       "      <td>0.11</td>\n",
       "      <td>5</td>\n",
       "      <td>0.0</td>\n",
       "      <td>Green</td>\n",
       "      <td>9</td>\n",
       "      <td>March 10th, 2015</td>\n",
       "      <td>ft</td>\n",
       "      <td>NaN</td>\n",
       "      <td>NaN</td>\n",
       "      <td>NaN</td>\n",
       "    </tr>\n",
       "    <tr>\n",
       "      <th>1302</th>\n",
       "      <td>Arabica</td>\n",
       "      <td>Brazil</td>\n",
       "      <td>volcafe ltda.</td>\n",
       "      <td>NaN</td>\n",
       "      <td>cerrado</td>\n",
       "      <td>305</td>\n",
       "      <td>59 kg</td>\n",
       "      <td>Brazil Specialty Coffee Association</td>\n",
       "      <td>2017 / 2018</td>\n",
       "      <td>October 27th, 2017</td>\n",
       "      <td>...</td>\n",
       "      <td>0.11</td>\n",
       "      <td>0</td>\n",
       "      <td>1.0</td>\n",
       "      <td>Green</td>\n",
       "      <td>55</td>\n",
       "      <td>October 27th, 2018</td>\n",
       "      <td>m</td>\n",
       "      <td>NaN</td>\n",
       "      <td>NaN</td>\n",
       "      <td>NaN</td>\n",
       "    </tr>\n",
       "    <tr>\n",
       "      <th>1334</th>\n",
       "      <td>Robusta</td>\n",
       "      <td>Ecuador</td>\n",
       "      <td>robustasa</td>\n",
       "      <td>NaN</td>\n",
       "      <td>san juan, playas</td>\n",
       "      <td>1</td>\n",
       "      <td>2 kg</td>\n",
       "      <td>Specialty Coffee Association</td>\n",
       "      <td>2016</td>\n",
       "      <td>January 19th, 2016</td>\n",
       "      <td>...</td>\n",
       "      <td>0.00</td>\n",
       "      <td>0</td>\n",
       "      <td>0.0</td>\n",
       "      <td>Blue-Green</td>\n",
       "      <td>1</td>\n",
       "      <td>January 18th, 2017</td>\n",
       "      <td>m</td>\n",
       "      <td>NaN</td>\n",
       "      <td>NaN</td>\n",
       "      <td>NaN</td>\n",
       "    </tr>\n",
       "    <tr>\n",
       "      <th>1337</th>\n",
       "      <td>Robusta</td>\n",
       "      <td>India</td>\n",
       "      <td>cafe politico</td>\n",
       "      <td>NaN</td>\n",
       "      <td>Desconhecida</td>\n",
       "      <td>1</td>\n",
       "      <td>5 lbs</td>\n",
       "      <td>Specialty Coffee Association</td>\n",
       "      <td>2013</td>\n",
       "      <td>August 25th, 2014</td>\n",
       "      <td>...</td>\n",
       "      <td>0.10</td>\n",
       "      <td>20</td>\n",
       "      <td>0.0</td>\n",
       "      <td>Green</td>\n",
       "      <td>1</td>\n",
       "      <td>August 25th, 2015</td>\n",
       "      <td>m</td>\n",
       "      <td>NaN</td>\n",
       "      <td>NaN</td>\n",
       "      <td>NaN</td>\n",
       "    </tr>\n",
       "    <tr>\n",
       "      <th>1338</th>\n",
       "      <td>Robusta</td>\n",
       "      <td>Vietnam</td>\n",
       "      <td>cafe politico</td>\n",
       "      <td>NaN</td>\n",
       "      <td>Desconhecida</td>\n",
       "      <td>1</td>\n",
       "      <td>5 lbs</td>\n",
       "      <td>Specialty Coffee Association</td>\n",
       "      <td>2013</td>\n",
       "      <td>August 25th, 2014</td>\n",
       "      <td>...</td>\n",
       "      <td>0.12</td>\n",
       "      <td>63</td>\n",
       "      <td>0.0</td>\n",
       "      <td>None</td>\n",
       "      <td>9</td>\n",
       "      <td>August 25th, 2015</td>\n",
       "      <td>m</td>\n",
       "      <td>NaN</td>\n",
       "      <td>NaN</td>\n",
       "      <td>NaN</td>\n",
       "    </tr>\n",
       "  </tbody>\n",
       "</table>\n",
       "<p>213 rows × 34 columns</p>\n",
       "</div>"
      ],
      "text/plain": [
       "      Species       Country.of.Origin                                Company  \\\n",
       "5     Arabica                  Brazil                                    NaN   \n",
       "6     Arabica                    Peru  richmond investment-coffee department   \n",
       "17    Arabica                Ethiopia                                    NaN   \n",
       "24    Arabica                Ethiopia                                    NaN   \n",
       "26    Arabica                Ethiopia                                    NaN   \n",
       "...       ...                     ...                                    ...   \n",
       "1296  Arabica  United States (Hawaii)       kona pacific farmers cooperative   \n",
       "1302  Arabica                  Brazil                          volcafe ltda.   \n",
       "1334  Robusta                 Ecuador                              robustasa   \n",
       "1337  Robusta                   India                          cafe politico   \n",
       "1338  Robusta                 Vietnam                          cafe politico   \n",
       "\n",
       "     Altitude            Region  Number.of.Bags Bag.Weight  \\\n",
       "5         NaN      Desconhecida             100      30 kg   \n",
       "6         NaN      Desconhecida             100      69 kg   \n",
       "17        NaN       yirgacheffe             150          6   \n",
       "24        NaN            sidamo             100      60 kg   \n",
       "26        NaN            sidamo             150          6   \n",
       "...       ...               ...             ...        ...   \n",
       "1296      NaN              kona              11    100 lbs   \n",
       "1302      NaN           cerrado             305      59 kg   \n",
       "1334      NaN  san juan, playas               1       2 kg   \n",
       "1337      NaN      Desconhecida               1      5 lbs   \n",
       "1338      NaN      Desconhecida               1      5 lbs   \n",
       "\n",
       "                       In.Country.Partner Harvest.Year          Grading.Date  \\\n",
       "5      Specialty Coffee Institute of Asia         2013   September 3rd, 2013   \n",
       "6      Specialty Coffee Institute of Asia         2012  September 17th, 2012   \n",
       "17            Ethiopia Commodity Exchange    2009/2010       June 16th, 2010   \n",
       "24     Specialty Coffee Institute of Asia         2013   September 3rd, 2013   \n",
       "26            Ethiopia Commodity Exchange    2009/2010       June 16th, 2010   \n",
       "...                                   ...          ...                   ...   \n",
       "1296         Specialty Coffee Association         2014      March 10th, 2014   \n",
       "1302  Brazil Specialty Coffee Association  2017 / 2018    October 27th, 2017   \n",
       "1334         Specialty Coffee Association         2016    January 19th, 2016   \n",
       "1337         Specialty Coffee Association         2013     August 25th, 2014   \n",
       "1338         Specialty Coffee Association         2013     August 25th, 2014   \n",
       "\n",
       "      ... Moisture Category.One.Defects Quakers         Color  \\\n",
       "5     ...     0.11                    0     0.0  Bluish-Green   \n",
       "6     ...     0.11                    0     0.0  Bluish-Green   \n",
       "17    ...     0.05                    0     0.0           NaN   \n",
       "24    ...     0.11                    0     0.0  Bluish-Green   \n",
       "26    ...     0.05                    0     0.0           NaN   \n",
       "...   ...      ...                  ...     ...           ...   \n",
       "1296  ...     0.11                    5     0.0         Green   \n",
       "1302  ...     0.11                    0     1.0         Green   \n",
       "1334  ...     0.00                    0     0.0    Blue-Green   \n",
       "1337  ...     0.10                   20     0.0         Green   \n",
       "1338  ...     0.12                   63     0.0          None   \n",
       "\n",
       "      Category.Two.Defects            Expiration  unit_of_measurement  \\\n",
       "5                        1   September 3rd, 2014                    m   \n",
       "6                        0  September 17th, 2013                    m   \n",
       "17                       2       June 16th, 2011                    m   \n",
       "24                       1   September 3rd, 2014                    m   \n",
       "26                       2       June 16th, 2011                    m   \n",
       "...                    ...                   ...                  ...   \n",
       "1296                     9      March 10th, 2015                   ft   \n",
       "1302                    55    October 27th, 2018                    m   \n",
       "1334                     1    January 18th, 2017                    m   \n",
       "1337                     1     August 25th, 2015                    m   \n",
       "1338                     9     August 25th, 2015                    m   \n",
       "\n",
       "      altitude_low_meters  altitude_high_meters  altitude_mean_meters  \n",
       "5                     NaN                   NaN                   NaN  \n",
       "6                     NaN                   NaN                   NaN  \n",
       "17                    NaN                   NaN                   NaN  \n",
       "24                    NaN                   NaN                   NaN  \n",
       "26                    NaN                   NaN                   NaN  \n",
       "...                   ...                   ...                   ...  \n",
       "1296                  NaN                   NaN                   NaN  \n",
       "1302                  NaN                   NaN                   NaN  \n",
       "1334                  NaN                   NaN                   NaN  \n",
       "1337                  NaN                   NaN                   NaN  \n",
       "1338                  NaN                   NaN                   NaN  \n",
       "\n",
       "[213 rows x 34 columns]"
      ]
     },
     "execution_count": 227,
     "metadata": {},
     "output_type": "execute_result"
    }
   ],
   "source": [
    "df_coffee[(df_coffee['altitude_low_meters'].isna())]"
   ]
  },
  {
   "cell_type": "code",
   "execution_count": 228,
   "metadata": {},
   "outputs": [],
   "source": [
    "# Valores vazios foram substituídos pela média do país\n",
    "paises = df_coffee['Country.of.Origin'].unique()\n",
    "cols = [\"altitude_low_meters\",\"altitude_high_meters\",\"altitude_mean_meters\"]\n",
    "\n",
    "for pais in paises:\n",
    "        for coluna in cols:\n",
    "                df_coffee[coluna][(df_coffee[coluna].isna()) & (df_coffee['Country.of.Origin'] == pais)] = df_coffee[coluna][(df_coffee['Country.of.Origin'] == pais)].mean()\n"
   ]
  },
  {
   "cell_type": "code",
   "execution_count": 268,
   "metadata": {},
   "outputs": [
    {
     "data": {
      "image/png": "[encoded data removed]",
      "text/plain": [
       "<Figure size 720x360 with 1 Axes>"
      ]
     },
     "metadata": {},
     "output_type": "display_data"
    }
   ],
   "source": [
    "#Checando outliers da altitude após correções\n",
    "fig = df_coffee.plot(y='altitude_mean_meters', kind='box', figsize=(10, 5));\n",
    "\n",
    "plt.xlabel('Média de altitude (m)');\n"
   ]
  },
  {
   "cell_type": "markdown",
   "metadata": {},
   "source": [
    "_____\n",
    "\n",
    "### Análises\n",
    "___"
   ]
  },
  {
   "cell_type": "markdown",
   "metadata": {},
   "source": [
    "1. Análise da relação entre a altitude e os parâmetros de qualidade do café\n",
    "\n",
    "Gráfico de dispersão para análise de correlação entre altitude e qualidade"
   ]
  },
  {
   "cell_type": "code",
   "execution_count": 28,
   "metadata": {},
   "outputs": [],
   "source": [
    "#Removendo outliers da altitude\n",
    "df_altitude = outliers(df_coffee, 'Total.Cup.Points')"
   ]
  },
  {
   "cell_type": "code",
   "execution_count": 99,
   "metadata": {},
   "outputs": [
    {
     "name": "stdout",
     "output_type": "stream",
     "text": [
      "                      Total.Cup.Points  altitude_mean_meters\n",
      "Total.Cup.Points              1.000000              0.162761\n",
      "altitude_mean_meters          0.162761              1.000000\n"
     ]
    },
    {
     "data": {
      "image/png": "[encoded data removed]",
      "text/plain": [
       "<Figure size 720x360 with 1 Axes>"
      ]
     },
     "metadata": {},
     "output_type": "display_data"
    }
   ],
   "source": [
    "#plt.scatter(df_altitude['Total.Cup.Points'], df_altitude['altitude_mean_meters']);\n",
    "plt.figure(figsize = (10,5))\n",
    "ax = sns.scatterplot(data = df_altitude, y = 'Total.Cup.Points', x = 'altitude_mean_meters', hue=df_altitude['Species']);\n",
    "ax.set_ylabel('Pontuação Total')\n",
    "ax.set_xlabel('Média de altitude (m)')\n",
    "\n",
    "print(df_altitude[['Total.Cup.Points', 'altitude_mean_meters']].corr())"
   ]
  },
  {
   "cell_type": "code",
   "execution_count": 40,
   "metadata": {},
   "outputs": [],
   "source": [
    "df_measures = df_coffee[['Aroma','Flavor', 'Aftertaste', 'Acidity', 'Body', 'Balance', 'Uniformity','Clean.Cup', 'Sweetness']]"
   ]
  },
  {
   "cell_type": "code",
   "execution_count": 179,
   "metadata": {},
   "outputs": [
    {
     "data": {
      "image/png": "[encoded data removed]",
      "text/plain": [
       "<Figure size 1080x1080 with 9 Axes>"
      ]
     },
     "metadata": {},
     "output_type": "display_data"
    }
   ],
   "source": [
    "fig, ax = plt.subplots(3, 3, figsize=(15,15), sharey=True)\n",
    "sns.set_style(\"darkgrid\")\n",
    "fig.tight_layout(pad=3)\n",
    "\n",
    "y  = 0\n",
    "for coluna in df_measures.columns:\n",
    "    i, j = divmod(y, 3)\n",
    "    sns.scatterplot(data = df_altitude, x = 'altitude_mean_meters', y = coluna, hue=df_altitude['Species'], ax=ax[i,j]);\n",
    "    ax[i,j].set(title=coluna, xlabel= 'Média de altitude (m)', ylabel=None)\n",
    "    y += 1\n"
   ]
  },
  {
   "cell_type": "code",
   "execution_count": 88,
   "metadata": {},
   "outputs": [
    {
     "data": {
      "text/html": [
       "<div>\n",
       "<style scoped>\n",
       "    .dataframe tbody tr th:only-of-type {\n",
       "        vertical-align: middle;\n",
       "    }\n",
       "\n",
       "    .dataframe tbody tr th {\n",
       "        vertical-align: top;\n",
       "    }\n",
       "\n",
       "    .dataframe thead th {\n",
       "        text-align: right;\n",
       "    }\n",
       "</style>\n",
       "<table border=\"1\" class=\"dataframe\">\n",
       "  <thead>\n",
       "    <tr style=\"text-align: right;\">\n",
       "      <th></th>\n",
       "      <th>Correlação</th>\n",
       "    </tr>\n",
       "  </thead>\n",
       "  <tbody>\n",
       "    <tr>\n",
       "      <th>Aroma</th>\n",
       "      <td>0.123596</td>\n",
       "    </tr>\n",
       "    <tr>\n",
       "      <th>Flavor</th>\n",
       "      <td>0.099381</td>\n",
       "    </tr>\n",
       "    <tr>\n",
       "      <th>Aftertaste</th>\n",
       "      <td>0.071402</td>\n",
       "    </tr>\n",
       "    <tr>\n",
       "      <th>Acidity</th>\n",
       "      <td>0.148322</td>\n",
       "    </tr>\n",
       "    <tr>\n",
       "      <th>Body</th>\n",
       "      <td>0.099763</td>\n",
       "    </tr>\n",
       "    <tr>\n",
       "      <th>Balance</th>\n",
       "      <td>0.109568</td>\n",
       "    </tr>\n",
       "    <tr>\n",
       "      <th>Uniformity</th>\n",
       "      <td>0.129315</td>\n",
       "    </tr>\n",
       "    <tr>\n",
       "      <th>Clean.Cup</th>\n",
       "      <td>0.100108</td>\n",
       "    </tr>\n",
       "    <tr>\n",
       "      <th>Sweetness</th>\n",
       "      <td>0.031686</td>\n",
       "    </tr>\n",
       "  </tbody>\n",
       "</table>\n",
       "</div>"
      ],
      "text/plain": [
       "            Correlação\n",
       "Aroma         0.123596\n",
       "Flavor        0.099381\n",
       "Aftertaste    0.071402\n",
       "Acidity       0.148322\n",
       "Body          0.099763\n",
       "Balance       0.109568\n",
       "Uniformity    0.129315\n",
       "Clean.Cup     0.100108\n",
       "Sweetness     0.031686"
      ]
     },
     "execution_count": 88,
     "metadata": {},
     "output_type": "execute_result"
    }
   ],
   "source": [
    "lista = [np.corrcoef(df_altitude[coluna], df_altitude['altitude_mean_meters'])[0,1] for coluna in df_measures.columns] \n",
    "corr_alt_parametros = pd.DataFrame(lista, df_measures.columns)\n",
    "corr_alt_parametros.rename(columns = {0: 'Correlação'}, inplace=True)\n",
    "corr_alt_parametros"
   ]
  },
  {
   "cell_type": "markdown",
   "metadata": {},
   "source": [
    "- Confirmando que há uma baixa correlação entre a altitude média e qualquer um dos parâmetros de qualidade avaliados\n",
    "- Poderiam ser inseridas as temperaturas dos locais e latitude para que pudéssemos avaliar a influência do clima na qualidade do café\n",
    "\n",
    "A qualidade do café é algo complexo. Ela é afetada por muitos fatores: A espécie e a variedade do café, os métodos de cultivo e de processamento, a qualidade do solo, o clima local e como ele varia a cada ano, as condições de armazenamento e de exportação, a torra, o preparo…\n",
    "\n",
    "Porém, a velocidade com que a cereja do café se desenvolve pode ter um impacto significativo no sabor do café quando preparado (sem mencionar como ele é torrado). Por isso, a altitude é algo importante a saber. Nós só precisamos entendê-la no contexto da latitude e do clima local.\n",
    "\n",
    "https://perfectdailygrind.com/pt/2020/06/01/cafe-de-altitude-o-quanto-ela-afeta-a-qualidade/"
   ]
  },
  {
   "cell_type": "markdown",
   "metadata": {},
   "source": [
    "2. Análise da correlação entre as medidas de qualidade\n",
    "\n",
    "Gráfico heatmap"
   ]
  },
  {
   "cell_type": "code",
   "execution_count": 32,
   "metadata": {},
   "outputs": [
    {
     "data": {
      "text/html": [
       "<div>\n",
       "<style scoped>\n",
       "    .dataframe tbody tr th:only-of-type {\n",
       "        vertical-align: middle;\n",
       "    }\n",
       "\n",
       "    .dataframe tbody tr th {\n",
       "        vertical-align: top;\n",
       "    }\n",
       "\n",
       "    .dataframe thead th {\n",
       "        text-align: right;\n",
       "    }\n",
       "</style>\n",
       "<table border=\"1\" class=\"dataframe\">\n",
       "  <thead>\n",
       "    <tr style=\"text-align: right;\">\n",
       "      <th></th>\n",
       "      <th>Aroma</th>\n",
       "      <th>Flavor</th>\n",
       "      <th>Aftertaste</th>\n",
       "      <th>Acidity</th>\n",
       "      <th>Body</th>\n",
       "      <th>Balance</th>\n",
       "      <th>Uniformity</th>\n",
       "      <th>Clean.Cup</th>\n",
       "      <th>Sweetness</th>\n",
       "    </tr>\n",
       "  </thead>\n",
       "  <tbody>\n",
       "    <tr>\n",
       "      <th>0</th>\n",
       "      <td>8.67</td>\n",
       "      <td>8.83</td>\n",
       "      <td>8.67</td>\n",
       "      <td>8.75</td>\n",
       "      <td>8.50</td>\n",
       "      <td>8.42</td>\n",
       "      <td>10.0</td>\n",
       "      <td>10.0</td>\n",
       "      <td>10.0</td>\n",
       "    </tr>\n",
       "    <tr>\n",
       "      <th>1</th>\n",
       "      <td>8.75</td>\n",
       "      <td>8.67</td>\n",
       "      <td>8.50</td>\n",
       "      <td>8.58</td>\n",
       "      <td>8.42</td>\n",
       "      <td>8.42</td>\n",
       "      <td>10.0</td>\n",
       "      <td>10.0</td>\n",
       "      <td>10.0</td>\n",
       "    </tr>\n",
       "    <tr>\n",
       "      <th>2</th>\n",
       "      <td>8.42</td>\n",
       "      <td>8.50</td>\n",
       "      <td>8.42</td>\n",
       "      <td>8.42</td>\n",
       "      <td>8.33</td>\n",
       "      <td>8.42</td>\n",
       "      <td>10.0</td>\n",
       "      <td>10.0</td>\n",
       "      <td>10.0</td>\n",
       "    </tr>\n",
       "    <tr>\n",
       "      <th>3</th>\n",
       "      <td>8.17</td>\n",
       "      <td>8.58</td>\n",
       "      <td>8.42</td>\n",
       "      <td>8.42</td>\n",
       "      <td>8.50</td>\n",
       "      <td>8.25</td>\n",
       "      <td>10.0</td>\n",
       "      <td>10.0</td>\n",
       "      <td>10.0</td>\n",
       "    </tr>\n",
       "    <tr>\n",
       "      <th>4</th>\n",
       "      <td>8.25</td>\n",
       "      <td>8.50</td>\n",
       "      <td>8.25</td>\n",
       "      <td>8.50</td>\n",
       "      <td>8.42</td>\n",
       "      <td>8.33</td>\n",
       "      <td>10.0</td>\n",
       "      <td>10.0</td>\n",
       "      <td>10.0</td>\n",
       "    </tr>\n",
       "  </tbody>\n",
       "</table>\n",
       "</div>"
      ],
      "text/plain": [
       "   Aroma  Flavor  Aftertaste  Acidity  Body  Balance  Uniformity  Clean.Cup  \\\n",
       "0   8.67    8.83        8.67     8.75  8.50     8.42        10.0       10.0   \n",
       "1   8.75    8.67        8.50     8.58  8.42     8.42        10.0       10.0   \n",
       "2   8.42    8.50        8.42     8.42  8.33     8.42        10.0       10.0   \n",
       "3   8.17    8.58        8.42     8.42  8.50     8.25        10.0       10.0   \n",
       "4   8.25    8.50        8.25     8.50  8.42     8.33        10.0       10.0   \n",
       "\n",
       "   Sweetness  \n",
       "0       10.0  \n",
       "1       10.0  \n",
       "2       10.0  \n",
       "3       10.0  \n",
       "4       10.0  "
      ]
     },
     "metadata": {},
     "output_type": "display_data"
    }
   ],
   "source": [
    "display(df_measures.head())"
   ]
  },
  {
   "cell_type": "code",
   "execution_count": 51,
   "metadata": {},
   "outputs": [
    {
     "data": {
      "image/png": "[encoded data removed]",
      "text/plain": [
       "<Figure size 720x504 with 2 Axes>"
      ]
     },
     "metadata": {
      "needs_background": "light"
     },
     "output_type": "display_data"
    }
   ],
   "source": [
    "plt.figure(figsize=(10,7))\n",
    "sns.heatmap(df_measures.corr(), cmap='coolwarm', vmin=-1, vmax=1, annot = True);"
   ]
  },
  {
   "cell_type": "code",
   "execution_count": null,
   "metadata": {},
   "outputs": [],
   "source": [
    "plt.figure(figsize=(10,7))\n",
    "#sns.pairplot(df_measures);"
   ]
  },
  {
   "cell_type": "markdown",
   "metadata": {},
   "source": [
    "3. Análise da pontuação com os países de origem"
   ]
  },
  {
   "cell_type": "code",
   "execution_count": 166,
   "metadata": {},
   "outputs": [
    {
     "data": {
      "application/vnd.plotly.v1+json": {
       "config": {
        "plotlyServerURL": "https://plot.ly"
       },
       "data": [
        {
         "alignmentgroup": "True",
         "bingroup": "x",
         "hovertemplate": "Country.of.Origin=%{x}<br>count=%{y}<extra></extra>",
         "legendgroup": "",
         "marker": {
          "color": "#636efa",
          "pattern": {
           "shape": ""
          }
         },
         "name": "",
         "offsetgroup": "",
         "orientation": "v",
         "showlegend": false,
         "type": "histogram",
         "x": [
          "Ethiopia",
          "Ethiopia",
          "Guatemala",
          "Ethiopia",
          "Ethiopia",
          "Brazil",
          "Peru",
          "Ethiopia",
          "Ethiopia",
          "Ethiopia",
          "Ethiopia",
          "United States",
          "United States",
          "United States (Hawaii)",
          "Ethiopia",
          "United States",
          "Indonesia",
          "Ethiopia",
          "China",
          "Ethiopia",
          "United States",
          "Costa Rica",
          "Mexico",
          "United States",
          "Ethiopia",
          "Brazil",
          "Ethiopia",
          "Uganda",
          "Honduras",
          "Taiwan",
          "Nicaragua",
          "Tanzania, United Republic Of",
          "Brazil",
          "Costa Rica",
          "Ethiopia",
          "Kenya",
          "United States (Hawaii)",
          "United States (Hawaii)",
          "Ethiopia",
          "United States",
          "Thailand",
          "Brazil",
          "Brazil",
          "Taiwan",
          "Kenya",
          "Brazil",
          "Uganda",
          "Colombia",
          "Kenya",
          "Uganda",
          "Ethiopia",
          "United States (Hawaii)",
          "Guatemala",
          "Uganda",
          "Colombia",
          "Panama",
          "Ethiopia",
          "Guatemala",
          "Guatemala",
          "Ethiopia",
          "Peru",
          "Papua New Guinea",
          "El Salvador",
          "El Salvador",
          "United States (Hawaii)",
          "Panama",
          "Kenya",
          "Ethiopia",
          "Uganda",
          "Guatemala",
          "Ethiopia",
          "Uganda",
          "United States (Hawaii)",
          "Brazil",
          "El Salvador",
          "China",
          "Guatemala",
          "Costa Rica",
          "Costa Rica",
          "Kenya",
          "Kenya",
          "Ethiopia",
          "Ethiopia",
          "Guatemala",
          "Colombia",
          "Colombia",
          "Indonesia",
          "Guatemala",
          "Ethiopia",
          "Colombia",
          "Ethiopia",
          "United States (Hawaii)",
          "Colombia",
          "United States (Hawaii)",
          "Ethiopia",
          "United States (Hawaii)",
          "Uganda",
          "Colombia",
          "Costa Rica",
          "Mexico",
          "Kenya",
          "Kenya",
          "Brazil",
          "Mexico",
          "United States (Hawaii)",
          "Guatemala",
          "Colombia",
          "Colombia",
          "Taiwan",
          "Tanzania, United Republic Of",
          "Colombia",
          "Mexico",
          "Brazil",
          "Brazil",
          "Kenya",
          "Taiwan",
          "Uganda",
          "United States (Hawaii)",
          "Ethiopia",
          "Ethiopia",
          "Thailand",
          "Kenya",
          "Honduras",
          "El Salvador",
          "Nicaragua",
          "El Salvador",
          "Indonesia",
          "Japan",
          "Costa Rica",
          "Guatemala",
          "Costa Rica",
          "Ethiopia",
          "Costa Rica",
          "Costa Rica",
          "Costa Rica",
          "Taiwan",
          "Colombia",
          "Kenya",
          "Guatemala",
          "Guatemala",
          "Mexico",
          "Uganda",
          "Peru",
          "Ethiopia",
          "Kenya",
          "Colombia",
          "Colombia",
          "Kenya",
          "Guatemala",
          "Guatemala",
          "Colombia",
          "Colombia",
          "Kenya",
          "Colombia",
          "Costa Rica",
          "Colombia",
          "Brazil",
          "Brazil",
          "Costa Rica",
          "Uganda",
          "China",
          "Costa Rica",
          "Colombia",
          "China",
          "Guatemala",
          "Kenya",
          "Mexico",
          "Mexico",
          "Guatemala",
          "Brazil",
          "Brazil",
          "Costa Rica",
          "Indonesia",
          "Colombia",
          "Colombia",
          "Taiwan",
          "United States (Hawaii)",
          "Mexico",
          "Ethiopia",
          "Kenya",
          "Honduras",
          "Colombia",
          "Honduras",
          "Colombia",
          "Colombia",
          "Colombia",
          "Mexico",
          "Brazil",
          "Brazil",
          "Ethiopia",
          "Guatemala",
          "Taiwan",
          "Thailand",
          "Colombia",
          "Guatemala",
          "Guatemala",
          "China",
          "Colombia",
          "Colombia",
          "Colombia",
          "Colombia",
          "Tanzania, United Republic Of",
          "Tanzania, United Republic Of",
          "Guatemala",
          "Colombia",
          "United States (Hawaii)",
          "Mexico",
          "Mexico",
          "Mexico",
          "Uganda",
          "Guatemala",
          "Colombia",
          "Costa Rica",
          "Guatemala",
          "Guatemala",
          "Guatemala",
          "Colombia",
          "Nicaragua",
          "Brazil",
          "Costa Rica",
          "Ethiopia",
          "Tanzania, United Republic Of",
          "Colombia",
          "Guatemala",
          "Kenya",
          "Brazil",
          "Guatemala",
          "El Salvador",
          "Colombia",
          "Guatemala",
          "Uganda",
          "Indonesia",
          "Colombia",
          "Taiwan",
          "Guatemala",
          "Colombia",
          "Guatemala",
          "United States (Hawaii)",
          "Mexico",
          "Ethiopia",
          "Costa Rica",
          "Ethiopia",
          "Honduras",
          "Guatemala",
          "Colombia",
          "Guatemala",
          "Guatemala",
          "Colombia",
          "Colombia",
          "Colombia",
          "Ethiopia",
          "Brazil",
          "Colombia",
          "Kenya",
          "Thailand",
          "Kenya",
          "Uganda",
          "Thailand",
          "Brazil",
          "Mexico",
          "Thailand",
          "Brazil",
          "Taiwan",
          "Colombia",
          "Colombia",
          "Taiwan",
          "Colombia",
          "Colombia",
          "Colombia",
          "Taiwan",
          "Colombia",
          "Mexico",
          "Mexico",
          "Mexico",
          "Colombia",
          "Colombia",
          "Costa Rica",
          "Guatemala",
          "Taiwan",
          "Brazil",
          "Taiwan",
          "Ethiopia",
          "Brazil",
          "Costa Rica",
          "Guatemala",
          "Brazil",
          "Ecuador",
          "Colombia",
          "Guatemala",
          "Mexico",
          "Mexico",
          "Brazil",
          "Thailand",
          "Thailand",
          "Ethiopia",
          "Kenya",
          "Brazil",
          "Colombia",
          "Taiwan",
          "Colombia",
          "China",
          "Colombia",
          "Uganda",
          "United States (Puerto Rico)",
          "Colombia",
          "Colombia",
          "Colombia",
          "Colombia",
          "United States (Hawaii)",
          "Mexico",
          "Guatemala",
          "Colombia",
          "Colombia",
          "United States (Hawaii)",
          "Brazil",
          "Kenya",
          "Honduras",
          "Nicaragua",
          "Brazil",
          "Taiwan",
          "Costa Rica",
          "Thailand",
          "Colombia",
          "Guatemala",
          "Colombia",
          "Colombia",
          "Guatemala",
          "Guatemala",
          "Colombia",
          "Guatemala",
          "Guatemala",
          "Mexico",
          "Indonesia",
          "Guatemala",
          "United States (Hawaii)",
          "Brazil",
          "Guatemala",
          "Colombia",
          "China",
          "Colombia",
          "Mexico",
          "Ethiopia",
          "Uganda",
          "Colombia",
          "Colombia",
          "Colombia",
          "Taiwan",
          "Colombia",
          "Mexico",
          "Colombia",
          "Brazil",
          "Colombia",
          "Taiwan",
          "Costa Rica",
          "Colombia",
          "Guatemala",
          "Colombia",
          "Tanzania, United Republic Of",
          "Indonesia",
          "Ethiopia",
          "Colombia",
          "Colombia",
          "Guatemala",
          "Colombia",
          "Honduras",
          "Colombia",
          "Colombia",
          "Mexico",
          "Mexico",
          "Mexico",
          "Guatemala",
          "Colombia",
          "Guatemala",
          "United States (Hawaii)",
          "Indonesia",
          "Colombia",
          "Guatemala",
          "Colombia",
          "Costa Rica",
          "Taiwan",
          "Uganda",
          "Thailand",
          "El Salvador",
          "Colombia",
          "Brazil",
          "Tanzania, United Republic Of",
          "Colombia",
          "Guatemala",
          "Guatemala",
          "Guatemala",
          "United States (Hawaii)",
          "Colombia",
          "Colombia",
          "United States (Hawaii)",
          "Thailand",
          "Mexico",
          "Colombia",
          "Colombia",
          "Colombia",
          "Brazil",
          "Mexico",
          "Colombia",
          "Tanzania, United Republic Of",
          "Mexico",
          "Costa Rica",
          "United States (Hawaii)",
          "Costa Rica",
          "Peru",
          "Haiti",
          "Colombia",
          "Guatemala",
          "United States (Hawaii)",
          "Burundi",
          "Colombia",
          "United States (Hawaii)",
          "United States (Hawaii)",
          "Mexico",
          "Costa Rica",
          "Costa Rica",
          "Guatemala",
          "Uganda",
          "Brazil",
          "Colombia",
          "Mexico",
          "Taiwan",
          "Taiwan",
          "Colombia",
          "Guatemala",
          "Colombia",
          "Mexico",
          "United States (Hawaii)",
          "Mexico",
          "Mexico",
          "Guatemala",
          "Brazil",
          "Colombia",
          "Colombia",
          "Colombia",
          "Colombia",
          "Colombia",
          "Brazil",
          "Guatemala",
          "Tanzania, United Republic Of",
          "Peru",
          "Vietnam",
          "Guatemala",
          "Honduras",
          "China",
          "China",
          "El Salvador",
          "Guatemala",
          "Guatemala",
          "Kenya",
          "Thailand",
          "Tanzania, United Republic Of",
          "Colombia",
          "Uganda",
          "Colombia",
          "Honduras",
          "Honduras",
          "Guatemala",
          "United States (Hawaii)",
          "Tanzania, United Republic Of",
          "Guatemala",
          "Mexico",
          "Mexico",
          "Mexico",
          "Colombia",
          "Mexico",
          "Colombia",
          "Mexico",
          "Brazil",
          "Brazil",
          "Guatemala",
          "Brazil",
          "Brazil",
          "El Salvador",
          "Ethiopia",
          "Colombia",
          "Colombia",
          "Brazil",
          "Brazil",
          "Taiwan",
          "Brazil",
          "Brazil",
          "Costa Rica",
          "United States (Hawaii)",
          "Taiwan",
          "United States (Hawaii)",
          "Mexico",
          "United States (Hawaii)",
          "United States (Hawaii)",
          "Colombia",
          "Colombia",
          "Indonesia",
          "Guatemala",
          "Brazil",
          "Brazil",
          "Brazil",
          "Uganda",
          "Uganda",
          "Colombia",
          "Vietnam",
          "Guatemala",
          "Guatemala",
          "Guatemala",
          "Brazil",
          "Taiwan",
          "Uganda",
          "United States (Puerto Rico)",
          "Guatemala",
          "Costa Rica",
          "Brazil",
          "Colombia",
          "Colombia",
          "Colombia",
          "Colombia",
          "Colombia",
          "Mexico",
          "Mexico",
          "Mexico",
          "Colombia",
          "Colombia",
          "Colombia",
          "Guatemala",
          "Colombia",
          "Thailand",
          "Colombia",
          "United States (Hawaii)",
          "United States (Hawaii)",
          "Colombia",
          "Nicaragua",
          "Thailand",
          "Brazil",
          "El Salvador",
          "Colombia",
          "Taiwan",
          "Ethiopia",
          "Taiwan",
          "Philippines",
          "Philippines",
          "Mexico",
          "Mexico",
          "Brazil",
          "Uganda",
          "Uganda",
          "Guatemala",
          "Guatemala",
          "Guatemala",
          "Colombia",
          "Colombia",
          "Guatemala",
          "Colombia",
          "Mexico",
          "Vietnam",
          "Mexico",
          "United States (Hawaii)",
          "Colombia",
          "Thailand",
          "Kenya",
          "Guatemala",
          "Brazil",
          "El Salvador",
          "Rwanda",
          "Vietnam",
          "Guatemala",
          "Brazil",
          "Colombia",
          "United States",
          "Guatemala",
          "Colombia",
          "Colombia",
          "Tanzania, United Republic Of",
          "Mexico",
          "Mexico",
          "Guatemala",
          "Mexico",
          "El Salvador",
          "Guatemala",
          "Guatemala",
          "Guatemala",
          "Guatemala",
          "Guatemala",
          "Indonesia",
          "Guatemala",
          "Taiwan",
          "El Salvador",
          "Costa Rica",
          "Honduras",
          "Brazil",
          "China",
          "China",
          "Colombia",
          "Malawi",
          "Guatemala",
          "Colombia",
          "United States (Hawaii)",
          "United States (Hawaii)",
          "Colombia",
          "Mexico",
          "Mexico",
          "Mexico",
          "Colombia",
          "Colombia",
          "United States (Hawaii)",
          "Panama",
          "United States (Hawaii)",
          "Brazil",
          "Brazil",
          "Laos",
          "El Salvador",
          "Mexico",
          "Colombia",
          "Brazil",
          "Brazil",
          "Tanzania, United Republic Of",
          "Tanzania, United Republic Of",
          "Taiwan",
          "Mexico",
          "Uganda",
          "Taiwan",
          "Thailand",
          "Colombia",
          "El Salvador",
          "Guatemala",
          "Thailand",
          "Mexico",
          "Mexico",
          "Colombia",
          "United States (Hawaii)",
          "Mexico",
          "Colombia",
          "Colombia",
          "Guatemala",
          "Taiwan",
          "Brazil",
          "Taiwan",
          "Brazil",
          "Indonesia",
          "Thailand",
          "Thailand",
          "Tanzania, United Republic Of",
          "Uganda",
          "Costa Rica",
          "Mexico",
          "Guatemala",
          "Colombia",
          "Colombia",
          "Colombia",
          "Mexico",
          "Mexico",
          "Colombia",
          "Brazil",
          "Brazil",
          "Indonesia",
          "Honduras",
          "Guatemala",
          "Thailand",
          "Thailand",
          "Tanzania, United Republic Of",
          "Tanzania, United Republic Of",
          "Mexico",
          "Brazil",
          "Guatemala",
          "Colombia",
          "Guatemala",
          "Mexico",
          "Mexico",
          "Mexico",
          "Guatemala",
          "Brazil",
          "Colombia",
          "United States (Hawaii)",
          "Guatemala",
          "Honduras",
          "Guatemala",
          "Guatemala",
          "Guatemala",
          "Guatemala",
          "Colombia",
          "China",
          "Brazil",
          "Tanzania, United Republic Of",
          "Brazil",
          "Guatemala",
          "Mexico",
          "Brazil",
          "Peru",
          "Brazil",
          "Mexico",
          "Honduras",
          "Colombia",
          "Mexico",
          "Mexico",
          "Mexico",
          "Mexico",
          "Mexico",
          "Mexico",
          "Mexico",
          "Mexico",
          "Mexico",
          "Colombia",
          "Brazil",
          "Colombia",
          "Colombia",
          "Honduras",
          "Brazil",
          "Brazil",
          "Brazil",
          "Costa Rica",
          "Costa Rica",
          "China",
          "Brazil",
          "Brazil",
          "Guatemala",
          "Malawi",
          "Brazil",
          "Guatemala",
          "Mexico",
          "Colombia",
          "Taiwan",
          "Taiwan",
          "Guatemala",
          "Colombia",
          "Mexico",
          "Costa Rica",
          "Guatemala",
          "Mexico",
          "Mexico",
          "Guatemala",
          "Brazil",
          "Mexico",
          "Brazil",
          "Colombia",
          "Brazil",
          "Taiwan",
          "Guatemala",
          "Brazil",
          "El Salvador",
          "Honduras",
          "Malawi",
          "Brazil",
          "Taiwan",
          "Mexico",
          "United States (Hawaii)",
          "Mexico",
          "Guatemala",
          "Mexico",
          "Mexico",
          "El Salvador",
          "Mexico",
          "Mexico",
          "Colombia",
          "Colombia",
          "Brazil",
          "Colombia",
          "Brazil",
          "Honduras",
          "Nicaragua",
          "Tanzania, United Republic Of",
          "Tanzania, United Republic Of",
          "Brazil",
          "Thailand",
          "Honduras",
          "Guatemala",
          "Brazil",
          "Tanzania, United Republic Of",
          "Mexico",
          "Mexico",
          "Taiwan",
          "Taiwan",
          "Colombia",
          "Mexico",
          "Guatemala",
          "Mexico",
          "Mexico",
          "Colombia",
          "Indonesia",
          "Colombia",
          "Brazil",
          "Brazil",
          "Costa Rica",
          "Tanzania, United Republic Of",
          "Tanzania, United Republic Of",
          "Colombia",
          "Costa Rica",
          "United States (Hawaii)",
          "Mexico",
          "Mexico",
          "Mexico",
          "Vietnam",
          "Mexico",
          "United States (Hawaii)",
          "Colombia",
          "Honduras",
          "Honduras",
          "Brazil",
          "Tanzania, United Republic Of",
          "Laos",
          "Tanzania, United Republic Of",
          "Malawi",
          "Taiwan",
          "Thailand",
          "Costa Rica",
          "Honduras",
          "Colombia",
          "Taiwan",
          "Brazil",
          "Mexico",
          "Brazil",
          "Brazil",
          "Guatemala",
          "Brazil",
          "Guatemala",
          "Colombia",
          "Guatemala",
          "Guatemala",
          "Honduras",
          "Brazil",
          "El Salvador",
          "Guatemala",
          "Tanzania, United Republic Of",
          "Nicaragua",
          "Zambia",
          "Honduras",
          "Taiwan",
          "Mexico",
          "Mexico",
          "Mexico",
          "Mexico",
          "Mexico",
          "Brazil",
          "Colombia",
          "Guatemala",
          "Costa Rica",
          "Brazil",
          "Indonesia",
          "Guatemala",
          "Brazil",
          "Brazil",
          "Myanmar",
          "Mexico",
          "Honduras",
          "Costa Rica",
          "Taiwan",
          "Indonesia",
          "Malawi",
          "Brazil",
          "Honduras",
          "Mexico",
          "Colombia",
          "United States (Hawaii)",
          "Brazil",
          "Guatemala",
          "Mexico",
          "Mexico",
          "Brazil",
          "Colombia",
          "United States (Hawaii)",
          "Guatemala",
          "Vietnam",
          "Tanzania, United Republic Of",
          "Brazil",
          "Mexico",
          "Mexico",
          "Mexico",
          "Mexico",
          "Mexico",
          "Colombia",
          "Colombia",
          "Brazil",
          "Guatemala",
          "Guatemala",
          "Honduras",
          "Tanzania, United Republic Of",
          "Nicaragua",
          "Colombia",
          "Brazil",
          "Tanzania, United Republic Of",
          "Tanzania, United Republic Of",
          "Brazil",
          "Indonesia",
          "Honduras",
          "Costa Rica",
          "Mexico",
          "Taiwan",
          "Taiwan",
          "Mexico",
          "Guatemala",
          "Mexico",
          "Mexico",
          "Mexico",
          "Mexico",
          "Mexico",
          "United States (Hawaii)",
          "Honduras",
          "Guatemala",
          "Taiwan",
          "Costa Rica",
          "Tanzania, United Republic Of",
          "Malawi",
          "Taiwan",
          "Brazil",
          "Guatemala",
          "Mexico",
          "Mexico",
          "Mexico",
          "Thailand",
          "Thailand",
          "Costa Rica",
          "Guatemala",
          "Nicaragua",
          "Honduras",
          "Guatemala",
          "Taiwan",
          "Myanmar",
          "Costa Rica",
          "Malawi",
          "Guatemala",
          "Taiwan",
          "Brazil",
          "Haiti",
          "Taiwan",
          "Mexico",
          "Mexico",
          "Mexico",
          "Mexico",
          "Mexico",
          "Mexico",
          "Indonesia",
          "Brazil",
          "Guatemala",
          "Colombia",
          "United States (Hawaii)",
          "Mexico",
          "Guatemala",
          "Brazil",
          "Honduras",
          "Taiwan",
          "Malawi",
          "Brazil",
          "Guatemala",
          "Mexico",
          "Peru",
          "Guatemala",
          "Mexico",
          "Mexico",
          "Colombia",
          "Colombia",
          "United States (Hawaii)",
          "Colombia",
          "Honduras",
          "Mexico",
          "Brazil",
          "Honduras",
          "Brazil",
          "Philippines",
          "Malawi",
          "Honduras",
          "Mexico",
          "Mexico",
          "Brazil",
          "Taiwan",
          "Brazil",
          "Nicaragua",
          "Honduras",
          "Guatemala",
          "Tanzania, United Republic Of",
          "Taiwan",
          "Guatemala",
          "Mexico",
          "Nicaragua",
          "Tanzania, United Republic Of",
          "Mexico",
          "Costa Rica",
          "Honduras",
          "Thailand",
          "Philippines",
          "Tanzania, United Republic Of",
          "Malawi",
          "Costa Rica",
          "Brazil",
          "Mexico",
          "Guatemala",
          "Brazil",
          "United States (Hawaii)",
          "Ethiopia",
          "Brazil",
          "Nicaragua",
          "United States",
          "Tanzania, United Republic Of",
          "Costa Rica",
          "United States (Puerto Rico)",
          "Mexico",
          "Mexico",
          "Mexico",
          "Mexico",
          "United States (Hawaii)",
          "Brazil",
          "El Salvador",
          "Brazil",
          "Guatemala",
          "Colombia",
          "Guatemala",
          "Taiwan",
          "Honduras",
          "Brazil",
          "Tanzania, United Republic Of",
          "Uganda",
          "Taiwan",
          "Thailand",
          "Mexico",
          "Mexico",
          "Taiwan",
          "Guatemala",
          "Kenya",
          "Mexico",
          "Myanmar",
          "United States (Hawaii)",
          "Tanzania, United Republic Of",
          "Brazil",
          "Taiwan",
          "Brazil",
          "Nicaragua",
          "Guatemala",
          "Taiwan",
          "Taiwan",
          "Taiwan",
          "Mexico",
          "Thailand",
          "Laos",
          "Guatemala",
          "Mexico",
          "Mexico",
          "Mexico",
          "United States (Hawaii)",
          "Colombia",
          "Brazil",
          "Myanmar",
          "Guatemala",
          "Nicaragua",
          "Honduras",
          "Panama",
          "Honduras",
          "Honduras",
          "Costa Rica",
          "Mexico",
          "Haiti",
          "United States (Hawaii)",
          "Taiwan",
          "Indonesia",
          "Guatemala",
          "Costa Rica",
          "Malawi",
          "Mexico",
          "Colombia",
          "Guatemala",
          "Guatemala",
          "Guatemala",
          "Colombia",
          "Brazil",
          "Nicaragua",
          "Tanzania, United Republic Of",
          "Brazil",
          "Honduras",
          "Guatemala",
          "United States (Hawaii)",
          "Colombia",
          "Taiwan",
          "Guatemala",
          "Honduras",
          "Mauritius",
          "Brazil",
          "Myanmar",
          "Guatemala",
          "Brazil",
          "United States (Hawaii)",
          "Guatemala",
          "Mexico",
          "Honduras",
          "Taiwan",
          "El Salvador",
          "China",
          "Taiwan",
          "Mexico",
          "Mexico",
          "Burundi",
          "Tanzania, United Republic Of",
          "Tanzania, United Republic Of",
          "Taiwan",
          "Guatemala",
          "Mexico",
          "United States (Hawaii)",
          "Ethiopia",
          "Brazil",
          "Honduras",
          "Mexico",
          "Myanmar",
          "Myanmar",
          "Nicaragua",
          "United States (Hawaii)",
          "Colombia",
          "Taiwan",
          "Guatemala",
          "Mexico",
          "Vietnam",
          "Nicaragua",
          "Honduras",
          "Guatemala",
          "Mexico",
          "Mexico",
          "Mexico",
          "Guatemala",
          "United States (Hawaii)",
          "Brazil",
          "Taiwan",
          "Nicaragua",
          "Taiwan",
          "Taiwan",
          "Taiwan",
          "Mexico",
          "Mexico",
          "Nicaragua",
          "Myanmar",
          "Mexico",
          "Taiwan",
          "Thailand",
          "Mexico",
          "Mexico",
          "Ethiopia",
          "Colombia",
          "United States (Hawaii)",
          "Mexico",
          "Mexico",
          "Mexico",
          "Mexico",
          "Mexico",
          "Mexico",
          "United States (Hawaii)",
          "Kenya",
          "Guatemala",
          "Nicaragua",
          "Mexico",
          "United States (Hawaii)",
          "Guatemala",
          "Taiwan",
          "Taiwan",
          "Thailand",
          "Peru",
          "Costa Rica",
          "Mexico",
          "Mexico",
          "Mexico",
          "Mexico",
          "Mexico",
          "Guatemala",
          "Mexico",
          "Guatemala",
          "El Salvador",
          "Thailand",
          "Guatemala",
          "Mexico",
          "Mexico",
          "Mexico",
          "Thailand",
          "Mexico",
          "Mexico",
          "Colombia",
          "Guatemala",
          "Nicaragua",
          "Taiwan",
          "Colombia",
          "Mexico",
          "Mexico",
          "Guatemala",
          "Guatemala",
          "Mexico",
          "Cote d?Ivoire",
          "Colombia",
          "Mexico",
          "Mexico",
          "Guatemala",
          "Taiwan",
          "Mexico",
          "Guatemala",
          "Honduras",
          "Guatemala",
          "Guatemala",
          "Costa Rica",
          "Mexico",
          "Mexico",
          "Mexico",
          "Guatemala",
          "United States (Puerto Rico)",
          "Mexico",
          "Mexico",
          "Mexico",
          "Guatemala",
          "Honduras",
          "Peru",
          "Mexico",
          "Mexico",
          "Mexico",
          "Mexico",
          "Mexico",
          "Nicaragua",
          "United States (Hawaii)",
          "Guatemala",
          "Mexico",
          "Mexico",
          "Mexico",
          "China",
          "Mexico",
          "Nicaragua",
          "Nicaragua",
          "Guatemala",
          "Taiwan",
          "Mexico",
          "Mexico",
          "United States (Hawaii)",
          "Mexico",
          "Mexico",
          "Mexico",
          "Brazil",
          "Mexico",
          "United States (Hawaii)",
          "Guatemala",
          "Guatemala",
          "Mexico",
          "Guatemala",
          "United States (Hawaii)",
          "United States (Hawaii)",
          "Indonesia",
          "Mexico",
          "Taiwan",
          "Honduras",
          "United States (Hawaii)",
          "Guatemala",
          "China",
          "Guatemala",
          "Mexico",
          "Colombia",
          "Costa Rica",
          "Mexico",
          "Guatemala",
          "Nicaragua",
          "Brazil",
          "Guatemala",
          "Taiwan",
          "United States (Hawaii)",
          "Mexico",
          "Guatemala",
          "Brazil",
          "Guatemala",
          "Mexico",
          "Haiti",
          "United States (Hawaii)",
          "Mexico",
          "Peru",
          "India",
          "Mexico",
          "Guatemala",
          "Mexico",
          "Guatemala",
          "Guatemala",
          "United States (Hawaii)",
          "United States (Hawaii)",
          "Mexico",
          "Indonesia",
          "Mexico",
          "Honduras",
          "Philippines",
          "Brazil",
          "Guatemala",
          "Guatemala",
          "Mexico",
          "Mexico",
          "Mexico",
          "Mexico",
          "Mexico",
          "Mexico",
          "Mexico",
          "Guatemala",
          "Guatemala",
          "Mexico",
          "United States (Hawaii)",
          "Guatemala",
          "Mexico",
          "Mexico",
          "Mexico",
          "United States (Hawaii)",
          "Brazil",
          "Honduras",
          "Mexico",
          "Colombia",
          "United States (Hawaii)",
          "Haiti",
          "Costa Rica",
          "Mexico",
          "Mexico",
          "Mexico",
          "Brazil",
          "Honduras",
          "Honduras",
          "Honduras",
          "Mexico",
          "Haiti",
          "Nicaragua",
          "Guatemala",
          "Uganda",
          "India",
          "India",
          "Uganda",
          "Uganda",
          "India",
          "India",
          "India",
          "India",
          "Uganda",
          "Uganda",
          "India",
          "India",
          "Uganda",
          "Uganda",
          "India",
          "India",
          "Uganda",
          "Uganda",
          "Uganda",
          "India",
          "India",
          "United States",
          "Ecuador",
          "Ecuador",
          "United States",
          "India",
          "Vietnam"
         ],
         "xaxis": "x",
         "yaxis": "y"
        }
       ],
       "layout": {
        "barmode": "relative",
        "legend": {
         "tracegroupgap": 0
        },
        "margin": {
         "t": 60
        },
        "template": {
         "data": {
          "bar": [
           {
            "error_x": {
             "color": "#2a3f5f"
            },
            "error_y": {
             "color": "#2a3f5f"
            },
            "marker": {
             "line": {
              "color": "#E5ECF6",
              "width": 0.5
             },
             "pattern": {
              "fillmode": "overlay",
              "size": 10,
              "solidity": 0.2
             }
            },
            "type": "bar"
           }
          ],
          "barpolar": [
           {
            "marker": {
             "line": {
              "color": "#E5ECF6",
              "width": 0.5
             },
             "pattern": {
              "fillmode": "overlay",
              "size": 10,
              "solidity": 0.2
             }
            },
            "type": "barpolar"
           }
          ],
          "carpet": [
           {
            "aaxis": {
             "endlinecolor": "#2a3f5f",
             "gridcolor": "white",
             "linecolor": "white",
             "minorgridcolor": "white",
             "startlinecolor": "#2a3f5f"
            },
            "baxis": {
             "endlinecolor": "#2a3f5f",
             "gridcolor": "white",
             "linecolor": "white",
             "minorgridcolor": "white",
             "startlinecolor": "#2a3f5f"
            },
            "type": "carpet"
           }
          ],
          "choropleth": [
           {
            "colorbar": {
             "outlinewidth": 0,
             "ticks": ""
            },
            "type": "choropleth"
           }
          ],
          "contour": [
           {
            "colorbar": {
             "outlinewidth": 0,
             "ticks": ""
            },
            "colorscale": [
             [
              0,
              "#0d0887"
             ],
             [
              0.1111111111111111,
              "#46039f"
             ],
             [
              0.2222222222222222,
              "#7201a8"
             ],
             [
              0.3333333333333333,
              "#9c179e"
             ],
             [
              0.4444444444444444,
              "#bd3786"
             ],
             [
              0.5555555555555556,
              "#d8576b"
             ],
             [
              0.6666666666666666,
              "#ed7953"
             ],
             [
              0.7777777777777778,
              "#fb9f3a"
             ],
             [
              0.8888888888888888,
              "#fdca26"
             ],
             [
              1,
              "#f0f921"
             ]
            ],
            "type": "contour"
           }
          ],
          "contourcarpet": [
           {
            "colorbar": {
             "outlinewidth": 0,
             "ticks": ""
            },
            "type": "contourcarpet"
           }
          ],
          "heatmap": [
           {
            "colorbar": {
             "outlinewidth": 0,
             "ticks": ""
            },
            "colorscale": [
             [
              0,
              "#0d0887"
             ],
             [
              0.1111111111111111,
              "#46039f"
             ],
             [
              0.2222222222222222,
              "#7201a8"
             ],
             [
              0.3333333333333333,
              "#9c179e"
             ],
             [
              0.4444444444444444,
              "#bd3786"
             ],
             [
              0.5555555555555556,
              "#d8576b"
             ],
             [
              0.6666666666666666,
              "#ed7953"
             ],
             [
              0.7777777777777778,
              "#fb9f3a"
             ],
             [
              0.8888888888888888,
              "#fdca26"
             ],
             [
              1,
              "#f0f921"
             ]
            ],
            "type": "heatmap"
           }
          ],
          "heatmapgl": [
           {
            "colorbar": {
             "outlinewidth": 0,
             "ticks": ""
            },
            "colorscale": [
             [
              0,
              "#0d0887"
             ],
             [
              0.1111111111111111,
              "#46039f"
             ],
             [
              0.2222222222222222,
              "#7201a8"
             ],
             [
              0.3333333333333333,
              "#9c179e"
             ],
             [
              0.4444444444444444,
              "#bd3786"
             ],
             [
              0.5555555555555556,
              "#d8576b"
             ],
             [
              0.6666666666666666,
              "#ed7953"
             ],
             [
              0.7777777777777778,
              "#fb9f3a"
             ],
             [
              0.8888888888888888,
              "#fdca26"
             ],
             [
              1,
              "#f0f921"
             ]
            ],
            "type": "heatmapgl"
           }
          ],
          "histogram": [
           {
            "marker": {
             "pattern": {
              "fillmode": "overlay",
              "size": 10,
              "solidity": 0.2
             }
            },
            "type": "histogram"
           }
          ],
          "histogram2d": [
           {
            "colorbar": {
             "outlinewidth": 0,
             "ticks": ""
            },
            "colorscale": [
             [
              0,
              "#0d0887"
             ],
             [
              0.1111111111111111,
              "#46039f"
             ],
             [
              0.2222222222222222,
              "#7201a8"
             ],
             [
              0.3333333333333333,
              "#9c179e"
             ],
             [
              0.4444444444444444,
              "#bd3786"
             ],
             [
              0.5555555555555556,
              "#d8576b"
             ],
             [
              0.6666666666666666,
              "#ed7953"
             ],
             [
              0.7777777777777778,
              "#fb9f3a"
             ],
             [
              0.8888888888888888,
              "#fdca26"
             ],
             [
              1,
              "#f0f921"
             ]
            ],
            "type": "histogram2d"
           }
          ],
          "histogram2dcontour": [
           {
            "colorbar": {
             "outlinewidth": 0,
             "ticks": ""
            },
            "colorscale": [
             [
              0,
              "#0d0887"
             ],
             [
              0.1111111111111111,
              "#46039f"
             ],
             [
              0.2222222222222222,
              "#7201a8"
             ],
             [
              0.3333333333333333,
              "#9c179e"
             ],
             [
              0.4444444444444444,
              "#bd3786"
             ],
             [
              0.5555555555555556,
              "#d8576b"
             ],
             [
              0.6666666666666666,
              "#ed7953"
             ],
             [
              0.7777777777777778,
              "#fb9f3a"
             ],
             [
              0.8888888888888888,
              "#fdca26"
             ],
             [
              1,
              "#f0f921"
             ]
            ],
            "type": "histogram2dcontour"
           }
          ],
          "mesh3d": [
           {
            "colorbar": {
             "outlinewidth": 0,
             "ticks": ""
            },
            "type": "mesh3d"
           }
          ],
          "parcoords": [
           {
            "line": {
             "colorbar": {
              "outlinewidth": 0,
              "ticks": ""
             }
            },
            "type": "parcoords"
           }
          ],
          "pie": [
           {
            "automargin": true,
            "type": "pie"
           }
          ],
          "scatter": [
           {
            "fillpattern": {
             "fillmode": "overlay",
             "size": 10,
             "solidity": 0.2
            },
            "type": "scatter"
           }
          ],
          "scatter3d": [
           {
            "line": {
             "colorbar": {
              "outlinewidth": 0,
              "ticks": ""
             }
            },
            "marker": {
             "colorbar": {
              "outlinewidth": 0,
              "ticks": ""
             }
            },
            "type": "scatter3d"
           }
          ],
          "scattercarpet": [
           {
            "marker": {
             "colorbar": {
              "outlinewidth": 0,
              "ticks": ""
             }
            },
            "type": "scattercarpet"
           }
          ],
          "scattergeo": [
           {
            "marker": {
             "colorbar": {
              "outlinewidth": 0,
              "ticks": ""
             }
            },
            "type": "scattergeo"
           }
          ],
          "scattergl": [
           {
            "marker": {
             "colorbar": {
              "outlinewidth": 0,
              "ticks": ""
             }
            },
            "type": "scattergl"
           }
          ],
          "scattermapbox": [
           {
            "marker": {
             "colorbar": {
              "outlinewidth": 0,
              "ticks": ""
             }
            },
            "type": "scattermapbox"
           }
          ],
          "scatterpolar": [
           {
            "marker": {
             "colorbar": {
              "outlinewidth": 0,
              "ticks": ""
             }
            },
            "type": "scatterpolar"
           }
          ],
          "scatterpolargl": [
           {
            "marker": {
             "colorbar": {
              "outlinewidth": 0,
              "ticks": ""
             }
            },
            "type": "scatterpolargl"
           }
          ],
          "scatterternary": [
           {
            "marker": {
             "colorbar": {
              "outlinewidth": 0,
              "ticks": ""
             }
            },
            "type": "scatterternary"
           }
          ],
          "surface": [
           {
            "colorbar": {
             "outlinewidth": 0,
             "ticks": ""
            },
            "colorscale": [
             [
              0,
              "#0d0887"
             ],
             [
              0.1111111111111111,
              "#46039f"
             ],
             [
              0.2222222222222222,
              "#7201a8"
             ],
             [
              0.3333333333333333,
              "#9c179e"
             ],
             [
              0.4444444444444444,
              "#bd3786"
             ],
             [
              0.5555555555555556,
              "#d8576b"
             ],
             [
              0.6666666666666666,
              "#ed7953"
             ],
             [
              0.7777777777777778,
              "#fb9f3a"
             ],
             [
              0.8888888888888888,
              "#fdca26"
             ],
             [
              1,
              "#f0f921"
             ]
            ],
            "type": "surface"
           }
          ],
          "table": [
           {
            "cells": {
             "fill": {
              "color": "#EBF0F8"
             },
             "line": {
              "color": "white"
             }
            },
            "header": {
             "fill": {
              "color": "#C8D4E3"
             },
             "line": {
              "color": "white"
             }
            },
            "type": "table"
           }
          ]
         },
         "layout": {
          "annotationdefaults": {
           "arrowcolor": "#2a3f5f",
           "arrowhead": 0,
           "arrowwidth": 1
          },
          "autotypenumbers": "strict",
          "coloraxis": {
           "colorbar": {
            "outlinewidth": 0,
            "ticks": ""
           }
          },
          "colorscale": {
           "diverging": [
            [
             0,
             "#8e0152"
            ],
            [
             0.1,
             "#c51b7d"
            ],
            [
             0.2,
             "#de77ae"
            ],
            [
             0.3,
             "#f1b6da"
            ],
            [
             0.4,
             "#fde0ef"
            ],
            [
             0.5,
             "#f7f7f7"
            ],
            [
             0.6,
             "#e6f5d0"
            ],
            [
             0.7,
             "#b8e186"
            ],
            [
             0.8,
             "#7fbc41"
            ],
            [
             0.9,
             "#4d9221"
            ],
            [
             1,
             "#276419"
            ]
           ],
           "sequential": [
            [
             0,
             "#0d0887"
            ],
            [
             0.1111111111111111,
             "#46039f"
            ],
            [
             0.2222222222222222,
             "#7201a8"
            ],
            [
             0.3333333333333333,
             "#9c179e"
            ],
            [
             0.4444444444444444,
             "#bd3786"
            ],
            [
             0.5555555555555556,
             "#d8576b"
            ],
            [
             0.6666666666666666,
             "#ed7953"
            ],
            [
             0.7777777777777778,
             "#fb9f3a"
            ],
            [
             0.8888888888888888,
             "#fdca26"
            ],
            [
             1,
             "#f0f921"
            ]
           ],
           "sequentialminus": [
            [
             0,
             "#0d0887"
            ],
            [
             0.1111111111111111,
             "#46039f"
            ],
            [
             0.2222222222222222,
             "#7201a8"
            ],
            [
             0.3333333333333333,
             "#9c179e"
            ],
            [
             0.4444444444444444,
             "#bd3786"
            ],
            [
             0.5555555555555556,
             "#d8576b"
            ],
            [
             0.6666666666666666,
             "#ed7953"
            ],
            [
             0.7777777777777778,
             "#fb9f3a"
            ],
            [
             0.8888888888888888,
             "#fdca26"
            ],
            [
             1,
             "#f0f921"
            ]
           ]
          },
          "colorway": [
           "#636efa",
           "#EF553B",
           "#00cc96",
           "#ab63fa",
           "#FFA15A",
           "#19d3f3",
           "#FF6692",
           "#B6E880",
           "#FF97FF",
           "#FECB52"
          ],
          "font": {
           "color": "#2a3f5f"
          },
          "geo": {
           "bgcolor": "white",
           "lakecolor": "white",
           "landcolor": "#E5ECF6",
           "showlakes": true,
           "showland": true,
           "subunitcolor": "white"
          },
          "hoverlabel": {
           "align": "left"
          },
          "hovermode": "closest",
          "mapbox": {
           "style": "light"
          },
          "paper_bgcolor": "white",
          "plot_bgcolor": "#E5ECF6",
          "polar": {
           "angularaxis": {
            "gridcolor": "white",
            "linecolor": "white",
            "ticks": ""
           },
           "bgcolor": "#E5ECF6",
           "radialaxis": {
            "gridcolor": "white",
            "linecolor": "white",
            "ticks": ""
           }
          },
          "scene": {
           "xaxis": {
            "backgroundcolor": "#E5ECF6",
            "gridcolor": "white",
            "gridwidth": 2,
            "linecolor": "white",
            "showbackground": true,
            "ticks": "",
            "zerolinecolor": "white"
           },
           "yaxis": {
            "backgroundcolor": "#E5ECF6",
            "gridcolor": "white",
            "gridwidth": 2,
            "linecolor": "white",
            "showbackground": true,
            "ticks": "",
            "zerolinecolor": "white"
           },
           "zaxis": {
            "backgroundcolor": "#E5ECF6",
            "gridcolor": "white",
            "gridwidth": 2,
            "linecolor": "white",
            "showbackground": true,
            "ticks": "",
            "zerolinecolor": "white"
           }
          },
          "shapedefaults": {
           "line": {
            "color": "#2a3f5f"
           }
          },
          "ternary": {
           "aaxis": {
            "gridcolor": "white",
            "linecolor": "white",
            "ticks": ""
           },
           "baxis": {
            "gridcolor": "white",
            "linecolor": "white",
            "ticks": ""
           },
           "bgcolor": "#E5ECF6",
           "caxis": {
            "gridcolor": "white",
            "linecolor": "white",
            "ticks": ""
           }
          },
          "title": {
           "x": 0.05
          },
          "xaxis": {
           "automargin": true,
           "gridcolor": "white",
           "linecolor": "white",
           "ticks": "",
           "title": {
            "standoff": 15
           },
           "zerolinecolor": "white",
           "zerolinewidth": 2
          },
          "yaxis": {
           "automargin": true,
           "gridcolor": "white",
           "linecolor": "white",
           "ticks": "",
           "title": {
            "standoff": 15
           },
           "zerolinecolor": "white",
           "zerolinewidth": 2
          }
         }
        },
        "xaxis": {
         "anchor": "y",
         "categoryorder": "total ascending",
         "domain": [
          0,
          1
         ],
         "tickangle": 45,
         "title": {
          "text": "Country.of.Origin"
         }
        },
        "yaxis": {
         "anchor": "x",
         "domain": [
          0,
          1
         ],
         "title": {
          "text": "count"
         }
        }
       }
      }
     },
     "metadata": {},
     "output_type": "display_data"
    }
   ],
   "source": [
    "fig = px.histogram(df_coffee, 'Country.of.Origin')\n",
    "fig.update_xaxes(tickangle=45, categoryorder = 'total ascending')"
   ]
  },
  {
   "cell_type": "code",
   "execution_count": 164,
   "metadata": {},
   "outputs": [
    {
     "data": {
      "application/vnd.plotly.v1+json": {
       "config": {
        "plotlyServerURL": "https://plot.ly"
       },
       "data": [
        {
         "alignmentgroup": "True",
         "hovertemplate": "variable=Total.Cup.Points<br>Country.of.Origin=%{x}<br>value=%{y}<extra></extra>",
         "legendgroup": "Total.Cup.Points",
         "marker": {
          "color": "#636efa",
          "pattern": {
           "shape": ""
          }
         },
         "name": "Total.Cup.Points",
         "offsetgroup": "Total.Cup.Points",
         "orientation": "v",
         "showlegend": true,
         "textposition": "auto",
         "type": "bar",
         "x": [
          "Haiti",
          "Cote d?Ivoire",
          "Ecuador",
          "Nicaragua",
          "Mauritius",
          "Myanmar",
          "Philippines",
          "Honduras",
          "Mexico",
          "India",
          "Vietnam",
          "Malawi",
          "United States (Puerto Rico)",
          "United States (Hawaii)",
          "Burundi",
          "Laos",
          "Guatemala",
          "Zambia",
          "Taiwan",
          "Tanzania, United Republic Of",
          "Brazil",
          "Peru",
          "Indonesia",
          "Thailand",
          "Costa Rica",
          "Rwanda",
          "China",
          "El Salvador",
          "Colombia",
          "Uganda",
          "Panama",
          "Kenya",
          "United States",
          "Japan",
          "Ethiopia",
          "Papua New Guinea"
         ],
         "xaxis": "x",
         "y": [
          77.17999999999999,
          79.33,
          80.22,
          80.45807692307692,
          80.5,
          80.75,
          80.834,
          80.88365384615385,
          80.89008474576272,
          81.08285714285715,
          81.20875,
          81.71181818181819,
          81.72749999999999,
          81.82041095890412,
          81.83,
          81.83333333333333,
          81.84657458563535,
          81.92,
          82.00133333333333,
          82.3695,
          82.40590909090909,
          82.526,
          82.5655,
          82.57375,
          82.78901960784313,
          82.83,
          82.9275,
          83.05285714285715,
          83.10655737704919,
          83.45194444444445,
          83.7075,
          84.30959999999999,
          84.433,
          84.67,
          85.48409090909091,
          85.75
         ],
         "yaxis": "y"
        }
       ],
       "layout": {
        "barmode": "relative",
        "height": 500,
        "legend": {
         "title": {
          "text": "variable"
         },
         "tracegroupgap": 0
        },
        "margin": {
         "t": 60
        },
        "showlegend": false,
        "template": {
         "data": {
          "bar": [
           {
            "error_x": {
             "color": "#2a3f5f"
            },
            "error_y": {
             "color": "#2a3f5f"
            },
            "marker": {
             "line": {
              "color": "#E5ECF6",
              "width": 0.5
             },
             "pattern": {
              "fillmode": "overlay",
              "size": 10,
              "solidity": 0.2
             }
            },
            "type": "bar"
           }
          ],
          "barpolar": [
           {
            "marker": {
             "line": {
              "color": "#E5ECF6",
              "width": 0.5
             },
             "pattern": {
              "fillmode": "overlay",
              "size": 10,
              "solidity": 0.2
             }
            },
            "type": "barpolar"
           }
          ],
          "carpet": [
           {
            "aaxis": {
             "endlinecolor": "#2a3f5f",
             "gridcolor": "white",
             "linecolor": "white",
             "minorgridcolor": "white",
             "startlinecolor": "#2a3f5f"
            },
            "baxis": {
             "endlinecolor": "#2a3f5f",
             "gridcolor": "white",
             "linecolor": "white",
             "minorgridcolor": "white",
             "startlinecolor": "#2a3f5f"
            },
            "type": "carpet"
           }
          ],
          "choropleth": [
           {
            "colorbar": {
             "outlinewidth": 0,
             "ticks": ""
            },
            "type": "choropleth"
           }
          ],
          "contour": [
           {
            "colorbar": {
             "outlinewidth": 0,
             "ticks": ""
            },
            "colorscale": [
             [
              0,
              "#0d0887"
             ],
             [
              0.1111111111111111,
              "#46039f"
             ],
             [
              0.2222222222222222,
              "#7201a8"
             ],
             [
              0.3333333333333333,
              "#9c179e"
             ],
             [
              0.4444444444444444,
              "#bd3786"
             ],
             [
              0.5555555555555556,
              "#d8576b"
             ],
             [
              0.6666666666666666,
              "#ed7953"
             ],
             [
              0.7777777777777778,
              "#fb9f3a"
             ],
             [
              0.8888888888888888,
              "#fdca26"
             ],
             [
              1,
              "#f0f921"
             ]
            ],
            "type": "contour"
           }
          ],
          "contourcarpet": [
           {
            "colorbar": {
             "outlinewidth": 0,
             "ticks": ""
            },
            "type": "contourcarpet"
           }
          ],
          "heatmap": [
           {
            "colorbar": {
             "outlinewidth": 0,
             "ticks": ""
            },
            "colorscale": [
             [
              0,
              "#0d0887"
             ],
             [
              0.1111111111111111,
              "#46039f"
             ],
             [
              0.2222222222222222,
              "#7201a8"
             ],
             [
              0.3333333333333333,
              "#9c179e"
             ],
             [
              0.4444444444444444,
              "#bd3786"
             ],
             [
              0.5555555555555556,
              "#d8576b"
             ],
             [
              0.6666666666666666,
              "#ed7953"
             ],
             [
              0.7777777777777778,
              "#fb9f3a"
             ],
             [
              0.8888888888888888,
              "#fdca26"
             ],
             [
              1,
              "#f0f921"
             ]
            ],
            "type": "heatmap"
           }
          ],
          "heatmapgl": [
           {
            "colorbar": {
             "outlinewidth": 0,
             "ticks": ""
            },
            "colorscale": [
             [
              0,
              "#0d0887"
             ],
             [
              0.1111111111111111,
              "#46039f"
             ],
             [
              0.2222222222222222,
              "#7201a8"
             ],
             [
              0.3333333333333333,
              "#9c179e"
             ],
             [
              0.4444444444444444,
              "#bd3786"
             ],
             [
              0.5555555555555556,
              "#d8576b"
             ],
             [
              0.6666666666666666,
              "#ed7953"
             ],
             [
              0.7777777777777778,
              "#fb9f3a"
             ],
             [
              0.8888888888888888,
              "#fdca26"
             ],
             [
              1,
              "#f0f921"
             ]
            ],
            "type": "heatmapgl"
           }
          ],
          "histogram": [
           {
            "marker": {
             "pattern": {
              "fillmode": "overlay",
              "size": 10,
              "solidity": 0.2
             }
            },
            "type": "histogram"
           }
          ],
          "histogram2d": [
           {
            "colorbar": {
             "outlinewidth": 0,
             "ticks": ""
            },
            "colorscale": [
             [
              0,
              "#0d0887"
             ],
             [
              0.1111111111111111,
              "#46039f"
             ],
             [
              0.2222222222222222,
              "#7201a8"
             ],
             [
              0.3333333333333333,
              "#9c179e"
             ],
             [
              0.4444444444444444,
              "#bd3786"
             ],
             [
              0.5555555555555556,
              "#d8576b"
             ],
             [
              0.6666666666666666,
              "#ed7953"
             ],
             [
              0.7777777777777778,
              "#fb9f3a"
             ],
             [
              0.8888888888888888,
              "#fdca26"
             ],
             [
              1,
              "#f0f921"
             ]
            ],
            "type": "histogram2d"
           }
          ],
          "histogram2dcontour": [
           {
            "colorbar": {
             "outlinewidth": 0,
             "ticks": ""
            },
            "colorscale": [
             [
              0,
              "#0d0887"
             ],
             [
              0.1111111111111111,
              "#46039f"
             ],
             [
              0.2222222222222222,
              "#7201a8"
             ],
             [
              0.3333333333333333,
              "#9c179e"
             ],
             [
              0.4444444444444444,
              "#bd3786"
             ],
             [
              0.5555555555555556,
              "#d8576b"
             ],
             [
              0.6666666666666666,
              "#ed7953"
             ],
             [
              0.7777777777777778,
              "#fb9f3a"
             ],
             [
              0.8888888888888888,
              "#fdca26"
             ],
             [
              1,
              "#f0f921"
             ]
            ],
            "type": "histogram2dcontour"
           }
          ],
          "mesh3d": [
           {
            "colorbar": {
             "outlinewidth": 0,
             "ticks": ""
            },
            "type": "mesh3d"
           }
          ],
          "parcoords": [
           {
            "line": {
             "colorbar": {
              "outlinewidth": 0,
              "ticks": ""
             }
            },
            "type": "parcoords"
           }
          ],
          "pie": [
           {
            "automargin": true,
            "type": "pie"
           }
          ],
          "scatter": [
           {
            "fillpattern": {
             "fillmode": "overlay",
             "size": 10,
             "solidity": 0.2
            },
            "type": "scatter"
           }
          ],
          "scatter3d": [
           {
            "line": {
             "colorbar": {
              "outlinewidth": 0,
              "ticks": ""
             }
            },
            "marker": {
             "colorbar": {
              "outlinewidth": 0,
              "ticks": ""
             }
            },
            "type": "scatter3d"
           }
          ],
          "scattercarpet": [
           {
            "marker": {
             "colorbar": {
              "outlinewidth": 0,
              "ticks": ""
             }
            },
            "type": "scattercarpet"
           }
          ],
          "scattergeo": [
           {
            "marker": {
             "colorbar": {
              "outlinewidth": 0,
              "ticks": ""
             }
            },
            "type": "scattergeo"
           }
          ],
          "scattergl": [
           {
            "marker": {
             "colorbar": {
              "outlinewidth": 0,
              "ticks": ""
             }
            },
            "type": "scattergl"
           }
          ],
          "scattermapbox": [
           {
            "marker": {
             "colorbar": {
              "outlinewidth": 0,
              "ticks": ""
             }
            },
            "type": "scattermapbox"
           }
          ],
          "scatterpolar": [
           {
            "marker": {
             "colorbar": {
              "outlinewidth": 0,
              "ticks": ""
             }
            },
            "type": "scatterpolar"
           }
          ],
          "scatterpolargl": [
           {
            "marker": {
             "colorbar": {
              "outlinewidth": 0,
              "ticks": ""
             }
            },
            "type": "scatterpolargl"
           }
          ],
          "scatterternary": [
           {
            "marker": {
             "colorbar": {
              "outlinewidth": 0,
              "ticks": ""
             }
            },
            "type": "scatterternary"
           }
          ],
          "surface": [
           {
            "colorbar": {
             "outlinewidth": 0,
             "ticks": ""
            },
            "colorscale": [
             [
              0,
              "#0d0887"
             ],
             [
              0.1111111111111111,
              "#46039f"
             ],
             [
              0.2222222222222222,
              "#7201a8"
             ],
             [
              0.3333333333333333,
              "#9c179e"
             ],
             [
              0.4444444444444444,
              "#bd3786"
             ],
             [
              0.5555555555555556,
              "#d8576b"
             ],
             [
              0.6666666666666666,
              "#ed7953"
             ],
             [
              0.7777777777777778,
              "#fb9f3a"
             ],
             [
              0.8888888888888888,
              "#fdca26"
             ],
             [
              1,
              "#f0f921"
             ]
            ],
            "type": "surface"
           }
          ],
          "table": [
           {
            "cells": {
             "fill": {
              "color": "#EBF0F8"
             },
             "line": {
              "color": "white"
             }
            },
            "header": {
             "fill": {
              "color": "#C8D4E3"
             },
             "line": {
              "color": "white"
             }
            },
            "type": "table"
           }
          ]
         },
         "layout": {
          "annotationdefaults": {
           "arrowcolor": "#2a3f5f",
           "arrowhead": 0,
           "arrowwidth": 1
          },
          "autotypenumbers": "strict",
          "coloraxis": {
           "colorbar": {
            "outlinewidth": 0,
            "ticks": ""
           }
          },
          "colorscale": {
           "diverging": [
            [
             0,
             "#8e0152"
            ],
            [
             0.1,
             "#c51b7d"
            ],
            [
             0.2,
             "#de77ae"
            ],
            [
             0.3,
             "#f1b6da"
            ],
            [
             0.4,
             "#fde0ef"
            ],
            [
             0.5,
             "#f7f7f7"
            ],
            [
             0.6,
             "#e6f5d0"
            ],
            [
             0.7,
             "#b8e186"
            ],
            [
             0.8,
             "#7fbc41"
            ],
            [
             0.9,
             "#4d9221"
            ],
            [
             1,
             "#276419"
            ]
           ],
           "sequential": [
            [
             0,
             "#0d0887"
            ],
            [
             0.1111111111111111,
             "#46039f"
            ],
            [
             0.2222222222222222,
             "#7201a8"
            ],
            [
             0.3333333333333333,
             "#9c179e"
            ],
            [
             0.4444444444444444,
             "#bd3786"
            ],
            [
             0.5555555555555556,
             "#d8576b"
            ],
            [
             0.6666666666666666,
             "#ed7953"
            ],
            [
             0.7777777777777778,
             "#fb9f3a"
            ],
            [
             0.8888888888888888,
             "#fdca26"
            ],
            [
             1,
             "#f0f921"
            ]
           ],
           "sequentialminus": [
            [
             0,
             "#0d0887"
            ],
            [
             0.1111111111111111,
             "#46039f"
            ],
            [
             0.2222222222222222,
             "#7201a8"
            ],
            [
             0.3333333333333333,
             "#9c179e"
            ],
            [
             0.4444444444444444,
             "#bd3786"
            ],
            [
             0.5555555555555556,
             "#d8576b"
            ],
            [
             0.6666666666666666,
             "#ed7953"
            ],
            [
             0.7777777777777778,
             "#fb9f3a"
            ],
            [
             0.8888888888888888,
             "#fdca26"
            ],
            [
             1,
             "#f0f921"
            ]
           ]
          },
          "colorway": [
           "#636efa",
           "#EF553B",
           "#00cc96",
           "#ab63fa",
           "#FFA15A",
           "#19d3f3",
           "#FF6692",
           "#B6E880",
           "#FF97FF",
           "#FECB52"
          ],
          "font": {
           "color": "#2a3f5f"
          },
          "geo": {
           "bgcolor": "white",
           "lakecolor": "white",
           "landcolor": "#E5ECF6",
           "showlakes": true,
           "showland": true,
           "subunitcolor": "white"
          },
          "hoverlabel": {
           "align": "left"
          },
          "hovermode": "closest",
          "mapbox": {
           "style": "light"
          },
          "paper_bgcolor": "white",
          "plot_bgcolor": "#E5ECF6",
          "polar": {
           "angularaxis": {
            "gridcolor": "white",
            "linecolor": "white",
            "ticks": ""
           },
           "bgcolor": "#E5ECF6",
           "radialaxis": {
            "gridcolor": "white",
            "linecolor": "white",
            "ticks": ""
           }
          },
          "scene": {
           "xaxis": {
            "backgroundcolor": "#E5ECF6",
            "gridcolor": "white",
            "gridwidth": 2,
            "linecolor": "white",
            "showbackground": true,
            "ticks": "",
            "zerolinecolor": "white"
           },
           "yaxis": {
            "backgroundcolor": "#E5ECF6",
            "gridcolor": "white",
            "gridwidth": 2,
            "linecolor": "white",
            "showbackground": true,
            "ticks": "",
            "zerolinecolor": "white"
           },
           "zaxis": {
            "backgroundcolor": "#E5ECF6",
            "gridcolor": "white",
            "gridwidth": 2,
            "linecolor": "white",
            "showbackground": true,
            "ticks": "",
            "zerolinecolor": "white"
           }
          },
          "shapedefaults": {
           "line": {
            "color": "#2a3f5f"
           }
          },
          "ternary": {
           "aaxis": {
            "gridcolor": "white",
            "linecolor": "white",
            "ticks": ""
           },
           "baxis": {
            "gridcolor": "white",
            "linecolor": "white",
            "ticks": ""
           },
           "bgcolor": "#E5ECF6",
           "caxis": {
            "gridcolor": "white",
            "linecolor": "white",
            "ticks": ""
           }
          },
          "title": {
           "x": 0.05
          },
          "xaxis": {
           "automargin": true,
           "gridcolor": "white",
           "linecolor": "white",
           "ticks": "",
           "title": {
            "standoff": 15
           },
           "zerolinecolor": "white",
           "zerolinewidth": 2
          },
          "yaxis": {
           "automargin": true,
           "gridcolor": "white",
           "linecolor": "white",
           "ticks": "",
           "title": {
            "standoff": 15
           },
           "zerolinecolor": "white",
           "zerolinewidth": 2
          }
         }
        },
        "title": {
         "font": {
          "color": "black"
         },
         "text": "Média da Pontuação Total - País",
         "x": 0.5,
         "y": 0.93
        },
        "width": 900,
        "xaxis": {
         "anchor": "y",
         "domain": [
          0,
          1
         ],
         "tickangle": 45,
         "title": {}
        },
        "yaxis": {
         "anchor": "x",
         "domain": [
          0,
          1
         ],
         "title": {
          "text": "Pontuação Total"
         }
        }
       }
      }
     },
     "metadata": {},
     "output_type": "display_data"
    }
   ],
   "source": [
    "df_ranking = df_coffee.groupby(by = 'Country.of.Origin').agg({'Total.Cup.Points':'mean'}).sort_values(by = 'Total.Cup.Points')\n",
    "\n",
    "fig = px.bar(df_ranking,width=900, height=500)\n",
    "fig.update_xaxes(tickangle=45)\n",
    "fig.update_layout(\n",
    "    xaxis_title=None,\n",
    "    yaxis_title=\"Pontuação Total\",\n",
    "    showlegend=False,\n",
    "    title={\n",
    "    'text': 'Média da Pontuação Total - País',\n",
    "    'y':0.93,\n",
    "    'x':0.5,\n",
    "    'font_color': 'black'}\n",
    "    )\n",
    "fig.show()"
   ]
  },
  {
   "cell_type": "markdown",
   "metadata": {},
   "source": [
    "- Top 5 países com maiores médias \n",
    "- Papua New Guinea\n",
    "- Ethiopia\n",
    "- Japan\n",
    "- United States\n",
    "- Kenya"
   ]
  },
  {
   "cell_type": "code",
   "execution_count": 150,
   "metadata": {},
   "outputs": [
    {
     "data": {
      "application/vnd.plotly.v1+json": {
       "config": {
        "plotlyServerURL": "https://plot.ly"
       },
       "data": [
        {
         "alignmentgroup": "True",
         "hovertemplate": "variable=Total.Cup.Points<br>Country.of.Origin=%{x}<br>value=%{y}<extra></extra>",
         "legendgroup": "Total.Cup.Points",
         "marker": {
          "color": "#636efa",
          "pattern": {
           "shape": ""
          }
         },
         "name": "Total.Cup.Points",
         "offsetgroup": "Total.Cup.Points",
         "orientation": "v",
         "showlegend": true,
         "textposition": "auto",
         "type": "bar",
         "x": [
          "Cote d?Ivoire",
          "Mauritius",
          "Myanmar",
          "Zambia",
          "Laos",
          "Malawi",
          "Rwanda",
          "Philippines",
          "Vietnam",
          "Burundi",
          "Haiti",
          "India",
          "United States (Puerto Rico)",
          "Ecuador",
          "Japan",
          "El Salvador",
          "Papua New Guinea",
          "Panama",
          "Colombia",
          "Thailand",
          "Kenya",
          "Tanzania, United Republic Of",
          "Nicaragua",
          "Taiwan",
          "Honduras",
          "Uganda",
          "Mexico",
          "Costa Rica",
          "China",
          "Indonesia",
          "United States (Hawaii)",
          "United States",
          "Peru",
          "Brazil",
          "Guatemala",
          "Ethiopia"
         ],
         "xaxis": "x",
         "y": [
          79.33,
          80.5,
          81.83,
          81.92,
          82.67,
          82.75,
          82.83,
          82.92,
          83.17,
          83.33,
          83.33,
          83.5,
          83.75,
          83.83,
          84.67,
          85.58,
          85.75,
          85.83,
          86,
          86.17,
          86.25,
          86.5,
          86.58,
          86.58,
          86.67,
          86.83,
          87.17,
          87.17,
          87.25,
          87.42,
          87.92,
          87.92,
          88.75,
          88.83,
          89.75,
          90.58
         ],
         "yaxis": "y"
        }
       ],
       "layout": {
        "barmode": "relative",
        "height": 500,
        "legend": {
         "title": {
          "text": "variable"
         },
         "tracegroupgap": 0
        },
        "margin": {
         "t": 60
        },
        "showlegend": false,
        "template": {
         "data": {
          "bar": [
           {
            "error_x": {
             "color": "#2a3f5f"
            },
            "error_y": {
             "color": "#2a3f5f"
            },
            "marker": {
             "line": {
              "color": "#E5ECF6",
              "width": 0.5
             },
             "pattern": {
              "fillmode": "overlay",
              "size": 10,
              "solidity": 0.2
             }
            },
            "type": "bar"
           }
          ],
          "barpolar": [
           {
            "marker": {
             "line": {
              "color": "#E5ECF6",
              "width": 0.5
             },
             "pattern": {
              "fillmode": "overlay",
              "size": 10,
              "solidity": 0.2
             }
            },
            "type": "barpolar"
           }
          ],
          "carpet": [
           {
            "aaxis": {
             "endlinecolor": "#2a3f5f",
             "gridcolor": "white",
             "linecolor": "white",
             "minorgridcolor": "white",
             "startlinecolor": "#2a3f5f"
            },
            "baxis": {
             "endlinecolor": "#2a3f5f",
             "gridcolor": "white",
             "linecolor": "white",
             "minorgridcolor": "white",
             "startlinecolor": "#2a3f5f"
            },
            "type": "carpet"
           }
          ],
          "choropleth": [
           {
            "colorbar": {
             "outlinewidth": 0,
             "ticks": ""
            },
            "type": "choropleth"
           }
          ],
          "contour": [
           {
            "colorbar": {
             "outlinewidth": 0,
             "ticks": ""
            },
            "colorscale": [
             [
              0,
              "#0d0887"
             ],
             [
              0.1111111111111111,
              "#46039f"
             ],
             [
              0.2222222222222222,
              "#7201a8"
             ],
             [
              0.3333333333333333,
              "#9c179e"
             ],
             [
              0.4444444444444444,
              "#bd3786"
             ],
             [
              0.5555555555555556,
              "#d8576b"
             ],
             [
              0.6666666666666666,
              "#ed7953"
             ],
             [
              0.7777777777777778,
              "#fb9f3a"
             ],
             [
              0.8888888888888888,
              "#fdca26"
             ],
             [
              1,
              "#f0f921"
             ]
            ],
            "type": "contour"
           }
          ],
          "contourcarpet": [
           {
            "colorbar": {
             "outlinewidth": 0,
             "ticks": ""
            },
            "type": "contourcarpet"
           }
          ],
          "heatmap": [
           {
            "colorbar": {
             "outlinewidth": 0,
             "ticks": ""
            },
            "colorscale": [
             [
              0,
              "#0d0887"
             ],
             [
              0.1111111111111111,
              "#46039f"
             ],
             [
              0.2222222222222222,
              "#7201a8"
             ],
             [
              0.3333333333333333,
              "#9c179e"
             ],
             [
              0.4444444444444444,
              "#bd3786"
             ],
             [
              0.5555555555555556,
              "#d8576b"
             ],
             [
              0.6666666666666666,
              "#ed7953"
             ],
             [
              0.7777777777777778,
              "#fb9f3a"
             ],
             [
              0.8888888888888888,
              "#fdca26"
             ],
             [
              1,
              "#f0f921"
             ]
            ],
            "type": "heatmap"
           }
          ],
          "heatmapgl": [
           {
            "colorbar": {
             "outlinewidth": 0,
             "ticks": ""
            },
            "colorscale": [
             [
              0,
              "#0d0887"
             ],
             [
              0.1111111111111111,
              "#46039f"
             ],
             [
              0.2222222222222222,
              "#7201a8"
             ],
             [
              0.3333333333333333,
              "#9c179e"
             ],
             [
              0.4444444444444444,
              "#bd3786"
             ],
             [
              0.5555555555555556,
              "#d8576b"
             ],
             [
              0.6666666666666666,
              "#ed7953"
             ],
             [
              0.7777777777777778,
              "#fb9f3a"
             ],
             [
              0.8888888888888888,
              "#fdca26"
             ],
             [
              1,
              "#f0f921"
             ]
            ],
            "type": "heatmapgl"
           }
          ],
          "histogram": [
           {
            "marker": {
             "pattern": {
              "fillmode": "overlay",
              "size": 10,
              "solidity": 0.2
             }
            },
            "type": "histogram"
           }
          ],
          "histogram2d": [
           {
            "colorbar": {
             "outlinewidth": 0,
             "ticks": ""
            },
            "colorscale": [
             [
              0,
              "#0d0887"
             ],
             [
              0.1111111111111111,
              "#46039f"
             ],
             [
              0.2222222222222222,
              "#7201a8"
             ],
             [
              0.3333333333333333,
              "#9c179e"
             ],
             [
              0.4444444444444444,
              "#bd3786"
             ],
             [
              0.5555555555555556,
              "#d8576b"
             ],
             [
              0.6666666666666666,
              "#ed7953"
             ],
             [
              0.7777777777777778,
              "#fb9f3a"
             ],
             [
              0.8888888888888888,
              "#fdca26"
             ],
             [
              1,
              "#f0f921"
             ]
            ],
            "type": "histogram2d"
           }
          ],
          "histogram2dcontour": [
           {
            "colorbar": {
             "outlinewidth": 0,
             "ticks": ""
            },
            "colorscale": [
             [
              0,
              "#0d0887"
             ],
             [
              0.1111111111111111,
              "#46039f"
             ],
             [
              0.2222222222222222,
              "#7201a8"
             ],
             [
              0.3333333333333333,
              "#9c179e"
             ],
             [
              0.4444444444444444,
              "#bd3786"
             ],
             [
              0.5555555555555556,
              "#d8576b"
             ],
             [
              0.6666666666666666,
              "#ed7953"
             ],
             [
              0.7777777777777778,
              "#fb9f3a"
             ],
             [
              0.8888888888888888,
              "#fdca26"
             ],
             [
              1,
              "#f0f921"
             ]
            ],
            "type": "histogram2dcontour"
           }
          ],
          "mesh3d": [
           {
            "colorbar": {
             "outlinewidth": 0,
             "ticks": ""
            },
            "type": "mesh3d"
           }
          ],
          "parcoords": [
           {
            "line": {
             "colorbar": {
              "outlinewidth": 0,
              "ticks": ""
             }
            },
            "type": "parcoords"
           }
          ],
          "pie": [
           {
            "automargin": true,
            "type": "pie"
           }
          ],
          "scatter": [
           {
            "fillpattern": {
             "fillmode": "overlay",
             "size": 10,
             "solidity": 0.2
            },
            "type": "scatter"
           }
          ],
          "scatter3d": [
           {
            "line": {
             "colorbar": {
              "outlinewidth": 0,
              "ticks": ""
             }
            },
            "marker": {
             "colorbar": {
              "outlinewidth": 0,
              "ticks": ""
             }
            },
            "type": "scatter3d"
           }
          ],
          "scattercarpet": [
           {
            "marker": {
             "colorbar": {
              "outlinewidth": 0,
              "ticks": ""
             }
            },
            "type": "scattercarpet"
           }
          ],
          "scattergeo": [
           {
            "marker": {
             "colorbar": {
              "outlinewidth": 0,
              "ticks": ""
             }
            },
            "type": "scattergeo"
           }
          ],
          "scattergl": [
           {
            "marker": {
             "colorbar": {
              "outlinewidth": 0,
              "ticks": ""
             }
            },
            "type": "scattergl"
           }
          ],
          "scattermapbox": [
           {
            "marker": {
             "colorbar": {
              "outlinewidth": 0,
              "ticks": ""
             }
            },
            "type": "scattermapbox"
           }
          ],
          "scatterpolar": [
           {
            "marker": {
             "colorbar": {
              "outlinewidth": 0,
              "ticks": ""
             }
            },
            "type": "scatterpolar"
           }
          ],
          "scatterpolargl": [
           {
            "marker": {
             "colorbar": {
              "outlinewidth": 0,
              "ticks": ""
             }
            },
            "type": "scatterpolargl"
           }
          ],
          "scatterternary": [
           {
            "marker": {
             "colorbar": {
              "outlinewidth": 0,
              "ticks": ""
             }
            },
            "type": "scatterternary"
           }
          ],
          "surface": [
           {
            "colorbar": {
             "outlinewidth": 0,
             "ticks": ""
            },
            "colorscale": [
             [
              0,
              "#0d0887"
             ],
             [
              0.1111111111111111,
              "#46039f"
             ],
             [
              0.2222222222222222,
              "#7201a8"
             ],
             [
              0.3333333333333333,
              "#9c179e"
             ],
             [
              0.4444444444444444,
              "#bd3786"
             ],
             [
              0.5555555555555556,
              "#d8576b"
             ],
             [
              0.6666666666666666,
              "#ed7953"
             ],
             [
              0.7777777777777778,
              "#fb9f3a"
             ],
             [
              0.8888888888888888,
              "#fdca26"
             ],
             [
              1,
              "#f0f921"
             ]
            ],
            "type": "surface"
           }
          ],
          "table": [
           {
            "cells": {
             "fill": {
              "color": "#EBF0F8"
             },
             "line": {
              "color": "white"
             }
            },
            "header": {
             "fill": {
              "color": "#C8D4E3"
             },
             "line": {
              "color": "white"
             }
            },
            "type": "table"
           }
          ]
         },
         "layout": {
          "annotationdefaults": {
           "arrowcolor": "#2a3f5f",
           "arrowhead": 0,
           "arrowwidth": 1
          },
          "autotypenumbers": "strict",
          "coloraxis": {
           "colorbar": {
            "outlinewidth": 0,
            "ticks": ""
           }
          },
          "colorscale": {
           "diverging": [
            [
             0,
             "#8e0152"
            ],
            [
             0.1,
             "#c51b7d"
            ],
            [
             0.2,
             "#de77ae"
            ],
            [
             0.3,
             "#f1b6da"
            ],
            [
             0.4,
             "#fde0ef"
            ],
            [
             0.5,
             "#f7f7f7"
            ],
            [
             0.6,
             "#e6f5d0"
            ],
            [
             0.7,
             "#b8e186"
            ],
            [
             0.8,
             "#7fbc41"
            ],
            [
             0.9,
             "#4d9221"
            ],
            [
             1,
             "#276419"
            ]
           ],
           "sequential": [
            [
             0,
             "#0d0887"
            ],
            [
             0.1111111111111111,
             "#46039f"
            ],
            [
             0.2222222222222222,
             "#7201a8"
            ],
            [
             0.3333333333333333,
             "#9c179e"
            ],
            [
             0.4444444444444444,
             "#bd3786"
            ],
            [
             0.5555555555555556,
             "#d8576b"
            ],
            [
             0.6666666666666666,
             "#ed7953"
            ],
            [
             0.7777777777777778,
             "#fb9f3a"
            ],
            [
             0.8888888888888888,
             "#fdca26"
            ],
            [
             1,
             "#f0f921"
            ]
           ],
           "sequentialminus": [
            [
             0,
             "#0d0887"
            ],
            [
             0.1111111111111111,
             "#46039f"
            ],
            [
             0.2222222222222222,
             "#7201a8"
            ],
            [
             0.3333333333333333,
             "#9c179e"
            ],
            [
             0.4444444444444444,
             "#bd3786"
            ],
            [
             0.5555555555555556,
             "#d8576b"
            ],
            [
             0.6666666666666666,
             "#ed7953"
            ],
            [
             0.7777777777777778,
             "#fb9f3a"
            ],
            [
             0.8888888888888888,
             "#fdca26"
            ],
            [
             1,
             "#f0f921"
            ]
           ]
          },
          "colorway": [
           "#636efa",
           "#EF553B",
           "#00cc96",
           "#ab63fa",
           "#FFA15A",
           "#19d3f3",
           "#FF6692",
           "#B6E880",
           "#FF97FF",
           "#FECB52"
          ],
          "font": {
           "color": "#2a3f5f"
          },
          "geo": {
           "bgcolor": "white",
           "lakecolor": "white",
           "landcolor": "#E5ECF6",
           "showlakes": true,
           "showland": true,
           "subunitcolor": "white"
          },
          "hoverlabel": {
           "align": "left"
          },
          "hovermode": "closest",
          "mapbox": {
           "style": "light"
          },
          "paper_bgcolor": "white",
          "plot_bgcolor": "#E5ECF6",
          "polar": {
           "angularaxis": {
            "gridcolor": "white",
            "linecolor": "white",
            "ticks": ""
           },
           "bgcolor": "#E5ECF6",
           "radialaxis": {
            "gridcolor": "white",
            "linecolor": "white",
            "ticks": ""
           }
          },
          "scene": {
           "xaxis": {
            "backgroundcolor": "#E5ECF6",
            "gridcolor": "white",
            "gridwidth": 2,
            "linecolor": "white",
            "showbackground": true,
            "ticks": "",
            "zerolinecolor": "white"
           },
           "yaxis": {
            "backgroundcolor": "#E5ECF6",
            "gridcolor": "white",
            "gridwidth": 2,
            "linecolor": "white",
            "showbackground": true,
            "ticks": "",
            "zerolinecolor": "white"
           },
           "zaxis": {
            "backgroundcolor": "#E5ECF6",
            "gridcolor": "white",
            "gridwidth": 2,
            "linecolor": "white",
            "showbackground": true,
            "ticks": "",
            "zerolinecolor": "white"
           }
          },
          "shapedefaults": {
           "line": {
            "color": "#2a3f5f"
           }
          },
          "ternary": {
           "aaxis": {
            "gridcolor": "white",
            "linecolor": "white",
            "ticks": ""
           },
           "baxis": {
            "gridcolor": "white",
            "linecolor": "white",
            "ticks": ""
           },
           "bgcolor": "#E5ECF6",
           "caxis": {
            "gridcolor": "white",
            "linecolor": "white",
            "ticks": ""
           }
          },
          "title": {
           "x": 0.05
          },
          "xaxis": {
           "automargin": true,
           "gridcolor": "white",
           "linecolor": "white",
           "ticks": "",
           "title": {
            "standoff": 15
           },
           "zerolinecolor": "white",
           "zerolinewidth": 2
          },
          "yaxis": {
           "automargin": true,
           "gridcolor": "white",
           "linecolor": "white",
           "ticks": "",
           "title": {
            "standoff": 15
           },
           "zerolinecolor": "white",
           "zerolinewidth": 2
          }
         }
        },
        "title": {
         "font": {
          "color": "black"
         },
         "text": "Máxima Pontuação Total - País",
         "x": 0.5,
         "y": 0.93
        },
        "width": 900,
        "xaxis": {
         "anchor": "y",
         "domain": [
          0,
          1
         ],
         "tickangle": 45,
         "title": {}
        },
        "yaxis": {
         "anchor": "x",
         "domain": [
          0,
          1
         ],
         "title": {
          "text": "Pontuação Total"
         }
        }
       }
      }
     },
     "metadata": {},
     "output_type": "display_data"
    }
   ],
   "source": [
    "df_ranking = df_coffee.groupby(by = 'Country.of.Origin').agg({'Total.Cup.Points':'max'}).sort_values(by = 'Total.Cup.Points')\n",
    "\n",
    "fig = px.bar(df_ranking,width=900, height=500)\n",
    "fig.update_xaxes(tickangle=45)\n",
    "fig.update_layout(\n",
    "    xaxis_title=None,\n",
    "    yaxis_title=\"Pontuação Total\",\n",
    "    showlegend=False,\n",
    "    title={\n",
    "    'text': 'Máxima Pontuação Total - País',\n",
    "    'y':0.93,\n",
    "    'x':0.5,\n",
    "    'font_color': 'black'}\n",
    "    )\n",
    "fig.show()"
   ]
  },
  {
   "cell_type": "markdown",
   "metadata": {},
   "source": [
    "- Países com maiores pontuações \n",
    "- Ethiopia\n",
    "- Guatemala\n",
    "- Brazil\n",
    "- Peru\n",
    "- United States"
   ]
  },
  {
   "cell_type": "markdown",
   "metadata": {},
   "source": [
    "4. Diferenças das 2 espécies"
   ]
  },
  {
   "cell_type": "code",
   "execution_count": 175,
   "metadata": {},
   "outputs": [
    {
     "data": {
      "text/plain": [
       "Index(['Species', 'Country.of.Origin', 'Company', 'Altitude', 'Region',\n",
       "       'Number.of.Bags', 'Bag.Weight', 'In.Country.Partner', 'Harvest.Year',\n",
       "       'Grading.Date', 'Owner.1', 'Variety', 'Processing.Method', 'Aroma',\n",
       "       'Flavor', 'Aftertaste', 'Acidity', 'Body', 'Balance', 'Uniformity',\n",
       "       'Clean.Cup', 'Sweetness', 'Cupper.Points', 'Total.Cup.Points',\n",
       "       'Moisture', 'Category.One.Defects', 'Quakers', 'Color',\n",
       "       'Category.Two.Defects', 'Expiration', 'unit_of_measurement',\n",
       "       'altitude_low_meters', 'altitude_high_meters', 'altitude_mean_meters'],\n",
       "      dtype='object')"
      ]
     },
     "execution_count": 175,
     "metadata": {},
     "output_type": "execute_result"
    }
   ],
   "source": [
    "df_coffee.columns"
   ]
  },
  {
   "cell_type": "code",
   "execution_count": 266,
   "metadata": {},
   "outputs": [
    {
     "data": {
      "image/png": "[encoded data removed]",
      "text/plain": [
       "<Figure size 720x504 with 1 Axes>"
      ]
     },
     "metadata": {},
     "output_type": "display_data"
    }
   ],
   "source": [
    "ax = df_coffee.groupby('Species')['Processing.Method'].value_counts(normalize=True).unstack('Processing.Method').plot.bar(stacked=True, figsize=(10,7));\n",
    "ax.legend(bbox_to_anchor = (1.05,0.6));\n",
    "plt.title('Tipo de Processamento e a espécie de café', fontsize=15);\n",
    "plt.xticks(fontsize=13,  rotation='horizontal');  \n",
    "plt.yticks(fontsize=13);\n",
    "plt.xlabel(None);\n"
   ]
  },
  {
   "cell_type": "code",
   "execution_count": 270,
   "metadata": {},
   "outputs": [
    {
     "data": {
      "image/png": "[encoded data removed]",
      "text/plain": [
       "<Figure size 720x504 with 1 Axes>"
      ]
     },
     "metadata": {},
     "output_type": "display_data"
    }
   ],
   "source": [
    "ax = df_coffee.groupby('Species')['Color'].value_counts(normalize=True).unstack('Color').plot.bar(stacked=True, figsize=(10,7));\n",
    "ax.legend(bbox_to_anchor = (1.05,0.6));\n",
    "plt.title('Cor e a espécie de café', fontsize=15);\n",
    "plt.xticks(fontsize=13,  rotation='horizontal');  \n",
    "plt.yticks(fontsize=13);\n",
    "plt.xlabel(None);"
   ]
  },
  {
   "cell_type": "code",
   "execution_count": 285,
   "metadata": {},
   "outputs": [
    {
     "data": {
      "image/png": "[encoded data removed]",
      "text/plain": [
       "<Figure size 432x288 with 1 Axes>"
      ]
     },
     "metadata": {},
     "output_type": "display_data"
    }
   ],
   "source": [
    "plt.hist(df_coffee['Total.Cup.Points'], alpha=0.5, color='green', edgecolor='black')\n",
    "# plt.xlabel('Massa dos Pinguins', fontsize=12);\n",
    "\n",
    "df_arabica = df_coffee.loc[df_coffee['Species'] == 'Arabica']\n",
    "df_robusta = df_coffee.loc[df_coffee['Species'] == 'Robusta']"
   ]
  },
  {
   "cell_type": "code",
   "execution_count": 315,
   "metadata": {},
   "outputs": [
    {
     "data": {
      "image/png": "[encoded data removed]",
      "text/plain": [
       "<Figure size 432x288 with 1 Axes>"
      ]
     },
     "metadata": {},
     "output_type": "display_data"
    }
   ],
   "source": [
    "# plt.hist(df_robusta['Total.Cup.Points'], alpha=0.5, color='green', edgecolor='black')\n",
    "data = df_robusta['Aroma']\n",
    "plt.hist(data, weights=np.ones(len(data)) / len(data))\n",
    "plt.gca().yaxis.set_major_formatter(PercentFormatter(1))\n",
    "plt.show()"
   ]
  },
  {
   "cell_type": "code",
   "execution_count": 314,
   "metadata": {},
   "outputs": [
    {
     "data": {
      "image/png": "[encoded data removed]",
      "text/plain": [
       "<Figure size 432x288 with 1 Axes>"
      ]
     },
     "metadata": {},
     "output_type": "display_data"
    }
   ],
   "source": [
    "data = df_arabica['Aroma']\n",
    "plt.hist(data, weights=np.ones(len(data)) / len(data))\n",
    "\n",
    "plt.gca().yaxis.set_major_formatter(PercentFormatter(1))\n",
    "plt.show()"
   ]
  },
  {
   "cell_type": "code",
   "execution_count": null,
   "metadata": {},
   "outputs": [],
   "source": [
    "fig, ax = plt.subplots(2, 10, figsize=(15,15), sharey=True)\n",
    "sns.set_style(\"darkgrid\")\n",
    "fig.tight_layout(pad=3)\n",
    "\n",
    "y  = 0\n",
    "for coluna in df_measures.columns:\n",
    "    i, j = divmod(y, 3)\n",
    "    sns.scatterplot(data = df_altitude, x = 'altitude_mean_meters', y = coluna, hue=df_altitude['Species'], ax=ax[i,j]);\n",
    "    ax[i,j].set(title=coluna, xlabel= 'Média de altitude (m)', ylabel=None)\n",
    "    y += 1\n"
   ]
  }
 ],
 "metadata": {
  "kernelspec": {
   "display_name": "Python 3.8.13 ('python3.8')",
   "language": "python",
   "name": "python3"
  },
  "language_info": {
   "codemirror_mode": {
    "name": "ipython",
    "version": 3
   },
   "file_extension": ".py",
   "mimetype": "text/x-python",
   "name": "python",
   "nbconvert_exporter": "python",
   "pygments_lexer": "ipython3",
   "version": "3.8.13"
  },
  "orig_nbformat": 4,
  "vscode": {
   "interpreter": {
    "hash": "f5df8bf237c44c6c1cce32517e1fc0f6413855a14e63ee11049ba72c8abc8688"
   }
  }
 },
 "nbformat": 4,
 "nbformat_minor": 2
}
