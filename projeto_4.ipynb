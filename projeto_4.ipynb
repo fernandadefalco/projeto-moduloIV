{
 "cells": [
  {
   "cell_type": "code",
   "execution_count": null,
   "metadata": {},
   "outputs": [],
   "source": []
  }
 ],
 "metadata": {
  "kernelspec": {
   "display_name": "Python 3.10.5 64-bit (windows store)",
   "language": "python",
   "name": "python3"
  },
  "language_info": {
   "name": "python",
   "version": "3.10.5"
  },
  "orig_nbformat": 4,
  "vscode": {
   "interpreter": {
    "hash": "3fe408bc0d7783c09bfdf56197dd74a8c0ead02b8046693e2500e6ba3573cd2c"
   }
  }
 },
 "nbformat": 4,
 "nbformat_minor": 2
}
